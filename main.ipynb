{
  "nbformat": 4,
  "nbformat_minor": 0,
  "metadata": {
    "colab": {
      "name": "FinalVersion.ipynb",
      "provenance": [],
      "include_colab_link": true
    },
    "kernelspec": {
      "name": "python3",
      "display_name": "Python 3"
    },
    "language_info": {
      "name": "python"
    }
  },
  "cells": [
    {
      "cell_type": "markdown",
      "metadata": {
        "id": "view-in-github",
        "colab_type": "text"
      },
      "source": [
        "<a href=\"https://colab.research.google.com/github/TandonArchit/LyricAI/blob/main/main.ipynb\" target=\"_parent\"><img src=\"https://colab.research.google.com/assets/colab-badge.svg\" alt=\"Open In Colab\"/></a>"
      ]
    },
    {
      "cell_type": "code",
      "execution_count": null,
      "metadata": {
        "id": "KEm9JZcM6mWk"
      },
      "outputs": [],
      "source": [
        "from google.colab import files\n",
        "uploaded = files.upload()"
      ]
    },
    {
      "cell_type": "code",
      "source": [
        "pip install spleeter"
      ],
      "metadata": {
        "id": "Gj25R_kvfMEJ"
      },
      "execution_count": null,
      "outputs": []
    },
    {
      "cell_type": "code",
      "source": [
        "# Write file names\n",
        "File_To_Convert = '[SHORT]LetMeDown.mp3'\n",
        "File_Only_Name = '[SHORT]LetMeDown'\n",
        "!spleeter separate -o output/ '/content/[SHORT]LetMeDown.mp3' "
      ],
      "metadata": {
        "colab": {
          "base_uri": "https://localhost:8080/"
        },
        "id": "QdTYsCmBVJws",
        "outputId": "41da5213-3e9e-4eaa-f660-24ace61231bb"
      },
      "execution_count": null,
      "outputs": [
        {
          "output_type": "stream",
          "name": "stdout",
          "text": [
            "INFO:spleeter:File output/[SHORT]LetMeDown/vocals.wav written succesfully\n",
            "INFO:spleeter:File output/[SHORT]LetMeDown/accompaniment.wav written succesfully\n"
          ]
        }
      ]
    },
    {
      "cell_type": "code",
      "source": [
        "# Code to delete files\n",
        "import os\n",
        "# !rm -rf <folder_name>\n",
        "# for i in range(1000):\n",
        "#   var = str(str(i)+\".mp4\")\n",
        "#   os.remove(\"/content/\" + var)"
      ],
      "metadata": {
        "id": "opLv2MCrfa59"
      },
      "execution_count": null,
      "outputs": []
    },
    {
      "cell_type": "code",
      "source": [
        "pip install moviepy"
      ],
      "metadata": {
        "id": "rDoXiPbzTrxr"
      },
      "execution_count": null,
      "outputs": []
    },
    {
      "cell_type": "code",
      "source": [
        "pip install gizeh"
      ],
      "metadata": {
        "id": "nxrqisvYTtWa"
      },
      "execution_count": null,
      "outputs": []
    },
    {
      "cell_type": "code",
      "source": [
        "pip install bing_image_downloader"
      ],
      "metadata": {
        "id": "wYMup6snTvFi"
      },
      "execution_count": null,
      "outputs": []
    },
    {
      "cell_type": "code",
      "source": [
        "pip install pydub"
      ],
      "metadata": {
        "id": "-kblDxFPTyUs"
      },
      "execution_count": null,
      "outputs": []
    },
    {
      "cell_type": "code",
      "source": [
        "# Splitting Audio File\n",
        "\n",
        "from pydub import AudioSegment \n",
        "from pydub.utils import make_chunks \n",
        "\n",
        "myaudio = AudioSegment.from_file(\"/content/output/\"+ File_Only_Name + \"/vocals.wav\", \"wav\") \n",
        "chunk_length_ms = 25000 \n",
        "chunks = make_chunks(myaudio,chunk_length_ms)\n",
        "\n",
        "for i, chunk in enumerate(chunks): \n",
        "    chunk_name = \"{0}.wav\".format(i) \n",
        "    print (\"exporting\", chunk_name) \n",
        "    chunk.export(chunk_name, format=\"wav\") "
      ],
      "metadata": {
        "colab": {
          "base_uri": "https://localhost:8080/"
        },
        "id": "tu43GFGrT1ul",
        "outputId": "753248bb-3d52-461d-94a0-9bf5b28e63e0"
      },
      "execution_count": null,
      "outputs": [
        {
          "output_type": "stream",
          "name": "stdout",
          "text": [
            "exporting 0.wav\n",
            "exporting 1.wav\n"
          ]
        }
      ]
    },
    {
      "cell_type": "code",
      "source": [
        "# Transcripting Audio\n",
        "\n",
        "import requests\n",
        "import time\n",
        "\n",
        "\n",
        "authKey = '17057cb9950542a6b379b6dc8613e09f'\n",
        "headers = {\n",
        "    'authorization' : authKey,\n",
        "    'content-type'  : 'application/json'\n",
        "}\n",
        "\n",
        "\n",
        "uploadUrl      = 'https://api.assemblyai.com/v2/upload'\n",
        "transcriptUrl  = 'https://api.assemblyai.com/v2/transcript'\n",
        "\n",
        "\n",
        "def uploadMyFile(fileName):\n",
        "\n",
        "    def _readMyFile(fn):\n",
        "\n",
        "        chunkSize = 1000\n",
        "\n",
        "        with open(fn, 'rb') as fileStream:\n",
        "            while True:\n",
        "                data = fileStream.read(chunkSize)\n",
        "                if not data:\n",
        "                    break\n",
        "                yield data\n",
        "    response = requests.post(\n",
        "        uploadUrl,\n",
        "        headers= headers,\n",
        "        data= _readMyFile(fileName)\n",
        "    )\n",
        "    json = response.json()\n",
        "    return json['upload_url']\n",
        "\n",
        "\n",
        "def startTranscription(aurl):\n",
        "    response = requests.post(\n",
        "        transcriptUrl,\n",
        "        headers= headers,\n",
        "        json= { 'audio_url' : aurl }\n",
        "    )   \n",
        "    json = response.json()\n",
        "    return json['id']\n",
        "\n",
        "\n",
        "def getTranscription(tid):\n",
        "    maxAttempts = 15\n",
        "    timedout    = False\n",
        "    while True:\n",
        "        response = requests.get(\n",
        "            f'{transcriptUrl}/{tid}',\n",
        "            headers= headers\n",
        "        )\n",
        "        json = response.json()\n",
        "\n",
        "        if json['status'] == 'completed':\n",
        "            break\n",
        "        maxAttempts -= 1\n",
        "        timedout = maxAttempts <= 0  ## We are making sure that enough time is given for the API to respond and the function timesout incase of an infinite loop somewhere.\n",
        "\n",
        "        if timedout:\n",
        "            break\n",
        "        time.sleep(3)\n",
        "    return 'Timeout...' if timedout else json['text']\n",
        "\n",
        "def final_assembly_AI():\n",
        "  i = 0\n",
        "  rtv = ''\n",
        "  while True:\n",
        "    try:\n",
        "      audioUrl = uploadMyFile(str(i) + '.wav')\n",
        "      transcriptionID = startTranscription(audioUrl)\n",
        "      text = getTranscription(transcriptionID)\n",
        "      rtv += text\n",
        "    except:\n",
        "      break\n",
        "    i += 1 \n",
        "  return rtv  "
      ],
      "metadata": {
        "id": "SvagHBrzT5LD"
      },
      "execution_count": null,
      "outputs": []
    },
    {
      "cell_type": "code",
      "source": [
        "# Image Resize\n",
        "\n",
        "from PIL import Image\n",
        "\n",
        "def change_size(location):\n",
        "\n",
        "  im = Image.open(location)\n",
        "  newsize = (720, 480) ## We are setting an image size because without it, if the code downloads a file that is too big for the video, it won't give a mapping error.\n",
        "  im = im.resize(newsize)"
      ],
      "metadata": {
        "id": "2zGioHHXT7Wc"
      },
      "execution_count": null,
      "outputs": []
    },
    {
      "cell_type": "code",
      "source": [
        "# Get Images From The Web\n",
        "\n",
        "def get_image(x):\n",
        "\n",
        "  from bing_image_downloader import downloader\n",
        "  query_string = str(x)\n",
        "## Our search paramenters are set here. The two main ones are: query_string and number of images to download, limit, is 1.",
        "  downloader.download(query_string, limit=1, output_dir='dataset', adult_filter_off=False, force_replace=False, timeout=60, verbose=True) "
      ],
      "metadata": {
        "id": "77YzItYzT9Mw"
      },
      "execution_count": null,
      "outputs": []
    },
    {
      "cell_type": "code",
      "source": [
        "# Final Video Making\n",
        "\n",
        "import moviepy.editor as mpy\n",
        "import gizeh as gz\n",
        "from moviepy.editor import *\n",
        "import os\n",
        "from natsort import natsorted\n",
        "import time\n",
        "\n",
        "def make_full_video(lyrics):\n",
        "\n",
        "  def split_lyrics(lyrics):\n",
        "\n",
        "    LyricsList = lyrics.split()\n",
        "    n = 1\n",
        "    final = [LyricsList[i * n:(i + 1) * n] for i in range((len(LyricsList) + n - 1) // n )] \n",
        "    return final\n",
        "\n",
        "  count = (len(split_lyrics(lyrics)))\n",
        "\n",
        "  def listToString(s): \n",
        "      first_string = \" \" \n",
        "      return (first_string.join(s))\n",
        "\n",
        "  def make_video(lyrics,tempID):\n",
        "\n",
        "    def render_text(t):\n",
        "\n",
        "        Colour = (3/255, 160/255, 98/255)\n",
        "        surface = gz.Surface(640, 60, bg_color=(24/255, 24/255, 24/255))\n",
        "        text = gz.text(str(lyrics), fontfamily=\"Helvetica\",fontsize=40, fontweight='bold', fill=Colour , xy=(320, 40))\n",
        "        text.draw(surface)\n",
        "        return surface.get_npimage()\n",
        "\n",
        "    text = mpy.VideoClip(render_text, duration=0.6)\n",
        "\n",
        "## The following if condition is put in place to make sure the video displays the word 'LyricAI' first and then start the song.",
        "    if tempID > 10: \n",
        "\n",
        "      get_image(lyrics)\n",
        "      time.sleep(1)\n",
        "      try:\n",
        "        image_path = '/content/dataset/'+str(lyrics)+'/Image_1.jpg'\n",
        "        change_size(image_path)\n",
        "        image = mpy.ImageClip(image_path)\n",
        "         \n",
        "      except:\n",
        "         try:\n",
        "           try:\n",
        "             image_path = '/content/dataset/'+str(lyrics)+'/Image_1.png'\n",
        "             change_size(image_path)\n",
        "             image = mpy.ImageClip(image_path)     \n",
        "           except:  \n",
        "             image_path = '/content/dataset/'+str(lyrics)+'/Image_1.jpeg'\n",
        "             change_size(image_path)\n",
        "             image = mpy.ImageClip(image_path)        \n",
        "         except:\n",
        "           a = 0\n",
        "           while a == 0:\n",
        "             time.sleep(1)\n",
        "             try:\n",
        "               image_path = '/content/dataset/'+str(lyrics)+'/Image_1.gif'\n",
        "               change_size(image_path)\n",
        "               image = mpy.ImageClip(image_path)\n",
        "               a = 1\n",
        "             except:\n",
        "               pass\n",
        "    else:\n",
        "      get_image(\"Black Background\")\n",
        "      try:\n",
        "\n",
        "        image_path = '/content/dataset/Black Background/Image_1.jpg'\n",
        "        change_size(image_path)\n",
        "        image = mpy.ImageClip(image_path)\n",
        "\n",
        "      except:\n",
        "        try:\n",
        "\n",
        "          image_path = '/content/dataset/Black Background/Image_1.png'\n",
        "          change_size(image_path)\n",
        "          image = mpy.ImageClip(image_path)\n",
        "\n",
        "        except:\n",
        "\n",
        "          image_path = '/content/dataset/Black Background/Image_1.jpeg'\n",
        "          change_size(image_path)\n",
        "          image = mpy.ImageClip(image_path)  \n",
        "\n",
        "\n",
        "           \n",
        "## We have set the video resolution to 1920 x 1080, which means that the output will be officially Full HD.",
        "    VIDEO_SIZE = (1920, 1080)\n",
        "\n",
        "\n",
        "    try:\n",
        "\n",
        "      video = video = mpy.CompositeVideoClip(\n",
        "          [\n",
        "            image.set_position('center'),\n",
        "              text.set_position(\n",
        "                  ('center')\n",
        "              )\n",
        "          ],\n",
        "          size=VIDEO_SIZE).\\\n",
        "          on_color(\n",
        "              color=(24,24,24),\n",
        "              col_opacity=1).set_duration(0.6)\n",
        "      video.write_videofile(str(tempID)+ '.mp4', fps=10) \n",
        "    except:\n",
        "\n",
        "## Here we form the layout for the video.",
        "      video = video = mpy.CompositeVideoClip(\n",
        "          [\n",
        "              text.set_position(\n",
        "                  ('center')\n",
        "              )\n",
        "          ],\n",
        "          size=VIDEO_SIZE).\\\n",
        "          on_color(\n",
        "              color=(24,24,24),\n",
        "              col_opacity=1).set_duration(0.5)\n",
        "      video.write_videofile(str(tempID)+ '.mp4', fps=10) \n",
        "\n",
        "   \n",
        "  ListOfLyrics= (split_lyrics(lyrics))  \n",
        "\n",
        "  for i in range(count): \n",
        "    make_video(listToString(ListOfLyrics[i]),i) \n",
        "\n",
        "  Merging =[]\n",
        "\n",
        "  for root, dirs, files in os.walk(\"/content\"):\n",
        "      files = natsorted(files)\n",
        "      for file in files:\n",
        "          if os.path.splitext(file)[1] == '.mp4':\n",
        "              filePath = os.path.join(root, file)\n",
        "              video = VideoFileClip(filePath)\n",
        "              Merging.append(video)\n",
        "\n",
        "  final_clip = concatenate_videoclips(Merging)\n",
        "  final_clip.to_videofile(\"output.mp4\", fps=24, remove_temp=False)\n",
        "\n",
        "make_full_video('LyricAI LyricAI LyricAI LyricAI LyricAI LyricAI LyricAI LyricAI LyricAI LyricAI '+final_assembly_AI()) \n",
        "\n",
        "videoclip = VideoFileClip(\"output.mp4\")\n",
        "\n",
        "audioclip = AudioFileClip(\"/content/output/\" + File_Only_Name + \"/accompaniment.wav\")\n",
        "\n",
        "new_audioclip = CompositeAudioClip([audioclip])\n",
        "\n",
        "videoclip.audio = new_audioclip\n",
        "\n",
        "videoclip.write_videofile(\"Final.mp4\")\n",
        "# Final.mp4 is the final output"
      ],
      "metadata": {
        "colab": {
          "base_uri": "https://localhost:8080/"
        },
        "id": "KmhKsHIFT_d3",
        "outputId": "2f803890-767f-4267-8c17-f0bff744a092"
      },
      "execution_count": null,
      "outputs": [
        {
          "output_type": "stream",
          "name": "stdout",
          "text": [
            "[%] Downloading Images to /content/dataset/Black Background\n",
            "\n",
            "\n",
            "[!!]Indexing page: 1\n",
            "\n",
            "[%] Indexed 1 Images on Page 1.\n",
            "\n",
            "===============================================\n",
            "\n",
            "[%] Downloading Image #1 from https://cdn.wallpapersafari.com/54/57/VFmTa6.png\n",
            "[%] File Downloaded !\n",
            "\n",
            "\n",
            "\n",
            "[%] Done. Downloaded 1 images.\n",
            "===============================================\n",
            "\n",
            "Please show your support here\n",
            "https://www.buymeacoffee.com/gurugaurav\n",
            "\n",
            "===============================================\n",
            "\n",
            "[MoviePy] >>>> Building video 0.mp4\n",
            "[MoviePy] Writing video 0.mp4\n"
          ]
        },
        {
          "output_type": "stream",
          "name": "stderr",
          "text": [
            " 86%|████████▌ | 6/7 [00:02<00:00,  2.02it/s]\n"
          ]
        },
        {
          "output_type": "stream",
          "name": "stdout",
          "text": [
            "[MoviePy] Done.\n",
            "[MoviePy] >>>> Video ready: 0.mp4 \n",
            "\n",
            "[%] Downloading Images to /content/dataset/Black Background\n",
            "\n",
            "\n",
            "[!!]Indexing page: 1\n",
            "\n",
            "[%] Indexed 1 Images on Page 1.\n",
            "\n",
            "===============================================\n",
            "\n",
            "[%] Downloading Image #1 from https://cdn.wallpapersafari.com/54/57/VFmTa6.png\n",
            "[%] File Downloaded !\n",
            "\n",
            "\n",
            "\n",
            "[%] Done. Downloaded 1 images.\n",
            "===============================================\n",
            "\n",
            "Please show your support here\n",
            "https://www.buymeacoffee.com/gurugaurav\n",
            "\n",
            "===============================================\n",
            "\n",
            "[MoviePy] >>>> Building video 1.mp4\n",
            "[MoviePy] Writing video 1.mp4\n"
          ]
        },
        {
          "output_type": "stream",
          "name": "stderr",
          "text": [
            " 86%|████████▌ | 6/7 [00:02<00:00,  2.02it/s]\n"
          ]
        },
        {
          "output_type": "stream",
          "name": "stdout",
          "text": [
            "[MoviePy] Done.\n",
            "[MoviePy] >>>> Video ready: 1.mp4 \n",
            "\n",
            "[%] Downloading Images to /content/dataset/Black Background\n",
            "\n",
            "\n",
            "[!!]Indexing page: 1\n",
            "\n",
            "[%] Indexed 1 Images on Page 1.\n",
            "\n",
            "===============================================\n",
            "\n",
            "[%] Downloading Image #1 from https://cdn.wallpapersafari.com/54/57/VFmTa6.png\n",
            "[%] File Downloaded !\n",
            "\n",
            "\n",
            "\n",
            "[%] Done. Downloaded 1 images.\n",
            "===============================================\n",
            "\n",
            "Please show your support here\n",
            "https://www.buymeacoffee.com/gurugaurav\n",
            "\n",
            "===============================================\n",
            "\n",
            "[MoviePy] >>>> Building video 2.mp4\n",
            "[MoviePy] Writing video 2.mp4\n"
          ]
        },
        {
          "output_type": "stream",
          "name": "stderr",
          "text": [
            " 86%|████████▌ | 6/7 [00:02<00:00,  2.65it/s]\n"
          ]
        },
        {
          "output_type": "stream",
          "name": "stdout",
          "text": [
            "[MoviePy] Done.\n",
            "[MoviePy] >>>> Video ready: 2.mp4 \n",
            "\n",
            "[%] Downloading Images to /content/dataset/Black Background\n",
            "\n",
            "\n",
            "[!!]Indexing page: 1\n",
            "\n",
            "[%] Indexed 1 Images on Page 1.\n",
            "\n",
            "===============================================\n",
            "\n",
            "[%] Downloading Image #1 from https://cdn.wallpapersafari.com/54/57/VFmTa6.png\n",
            "[%] File Downloaded !\n",
            "\n",
            "\n",
            "\n",
            "[%] Done. Downloaded 1 images.\n",
            "===============================================\n",
            "\n",
            "Please show your support here\n",
            "https://www.buymeacoffee.com/gurugaurav\n",
            "\n",
            "===============================================\n",
            "\n",
            "[MoviePy] >>>> Building video 3.mp4\n",
            "[MoviePy] Writing video 3.mp4\n"
          ]
        },
        {
          "output_type": "stream",
          "name": "stderr",
          "text": [
            " 86%|████████▌ | 6/7 [00:02<00:00,  2.21it/s]\n"
          ]
        },
        {
          "output_type": "stream",
          "name": "stdout",
          "text": [
            "[MoviePy] Done.\n",
            "[MoviePy] >>>> Video ready: 3.mp4 \n",
            "\n",
            "[%] Downloading Images to /content/dataset/Black Background\n",
            "\n",
            "\n",
            "[!!]Indexing page: 1\n",
            "\n",
            "[%] Indexed 1 Images on Page 1.\n",
            "\n",
            "===============================================\n",
            "\n",
            "[%] Downloading Image #1 from https://cdn.wallpapersafari.com/54/57/VFmTa6.png\n",
            "[%] File Downloaded !\n",
            "\n",
            "\n",
            "\n",
            "[%] Done. Downloaded 1 images.\n",
            "===============================================\n",
            "\n",
            "Please show your support here\n",
            "https://www.buymeacoffee.com/gurugaurav\n",
            "\n",
            "===============================================\n",
            "\n",
            "[MoviePy] >>>> Building video 4.mp4\n",
            "[MoviePy] Writing video 4.mp4\n"
          ]
        },
        {
          "output_type": "stream",
          "name": "stderr",
          "text": [
            " 86%|████████▌ | 6/7 [00:03<00:00,  1.84it/s]\n"
          ]
        },
        {
          "output_type": "stream",
          "name": "stdout",
          "text": [
            "[MoviePy] Done.\n",
            "[MoviePy] >>>> Video ready: 4.mp4 \n",
            "\n",
            "[%] Downloading Images to /content/dataset/Black Background\n",
            "\n",
            "\n",
            "[!!]Indexing page: 1\n",
            "\n",
            "[%] Indexed 1 Images on Page 1.\n",
            "\n",
            "===============================================\n",
            "\n",
            "[%] Downloading Image #1 from https://cdn.wallpapersafari.com/54/57/VFmTa6.png\n",
            "[%] File Downloaded !\n",
            "\n",
            "\n",
            "\n",
            "[%] Done. Downloaded 1 images.\n",
            "===============================================\n",
            "\n",
            "Please show your support here\n",
            "https://www.buymeacoffee.com/gurugaurav\n",
            "\n",
            "===============================================\n",
            "\n",
            "[MoviePy] >>>> Building video 5.mp4\n",
            "[MoviePy] Writing video 5.mp4\n"
          ]
        },
        {
          "output_type": "stream",
          "name": "stderr",
          "text": [
            " 86%|████████▌ | 6/7 [00:02<00:00,  2.32it/s]\n"
          ]
        },
        {
          "output_type": "stream",
          "name": "stdout",
          "text": [
            "[MoviePy] Done.\n",
            "[MoviePy] >>>> Video ready: 5.mp4 \n",
            "\n",
            "[%] Downloading Images to /content/dataset/Black Background\n",
            "\n",
            "\n",
            "[!!]Indexing page: 1\n",
            "\n",
            "[%] Indexed 1 Images on Page 1.\n",
            "\n",
            "===============================================\n",
            "\n",
            "[%] Downloading Image #1 from https://cdn.wallpapersafari.com/54/57/VFmTa6.png\n",
            "[%] File Downloaded !\n",
            "\n",
            "\n",
            "\n",
            "[%] Done. Downloaded 1 images.\n",
            "===============================================\n",
            "\n",
            "Please show your support here\n",
            "https://www.buymeacoffee.com/gurugaurav\n",
            "\n",
            "===============================================\n",
            "\n",
            "[MoviePy] >>>> Building video 6.mp4\n",
            "[MoviePy] Writing video 6.mp4\n"
          ]
        },
        {
          "output_type": "stream",
          "name": "stderr",
          "text": [
            " 86%|████████▌ | 6/7 [00:03<00:00,  1.91it/s]\n"
          ]
        },
        {
          "output_type": "stream",
          "name": "stdout",
          "text": [
            "[MoviePy] Done.\n",
            "[MoviePy] >>>> Video ready: 6.mp4 \n",
            "\n",
            "[%] Downloading Images to /content/dataset/Black Background\n",
            "\n",
            "\n",
            "[!!]Indexing page: 1\n",
            "\n",
            "[%] Indexed 1 Images on Page 1.\n",
            "\n",
            "===============================================\n",
            "\n",
            "[%] Downloading Image #1 from https://cdn.wallpapersafari.com/54/57/VFmTa6.png\n",
            "[%] File Downloaded !\n",
            "\n",
            "\n",
            "\n",
            "[%] Done. Downloaded 1 images.\n",
            "===============================================\n",
            "\n",
            "Please show your support here\n",
            "https://www.buymeacoffee.com/gurugaurav\n",
            "\n",
            "===============================================\n",
            "\n",
            "[MoviePy] >>>> Building video 7.mp4\n",
            "[MoviePy] Writing video 7.mp4\n"
          ]
        },
        {
          "output_type": "stream",
          "name": "stderr",
          "text": [
            " 86%|████████▌ | 6/7 [00:03<00:00,  1.74it/s]\n"
          ]
        },
        {
          "output_type": "stream",
          "name": "stdout",
          "text": [
            "[MoviePy] Done.\n",
            "[MoviePy] >>>> Video ready: 7.mp4 \n",
            "\n",
            "[%] Downloading Images to /content/dataset/Black Background\n",
            "\n",
            "\n",
            "[!!]Indexing page: 1\n",
            "\n",
            "[%] Indexed 1 Images on Page 1.\n",
            "\n",
            "===============================================\n",
            "\n",
            "[%] Downloading Image #1 from https://cdn.wallpapersafari.com/54/57/VFmTa6.png\n",
            "[%] File Downloaded !\n",
            "\n",
            "\n",
            "\n",
            "[%] Done. Downloaded 1 images.\n",
            "===============================================\n",
            "\n",
            "Please show your support here\n",
            "https://www.buymeacoffee.com/gurugaurav\n",
            "\n",
            "===============================================\n",
            "\n",
            "[MoviePy] >>>> Building video 8.mp4\n",
            "[MoviePy] Writing video 8.mp4\n"
          ]
        },
        {
          "output_type": "stream",
          "name": "stderr",
          "text": [
            " 86%|████████▌ | 6/7 [00:02<00:00,  2.22it/s]\n"
          ]
        },
        {
          "output_type": "stream",
          "name": "stdout",
          "text": [
            "[MoviePy] Done.\n",
            "[MoviePy] >>>> Video ready: 8.mp4 \n",
            "\n",
            "[%] Downloading Images to /content/dataset/Black Background\n",
            "\n",
            "\n",
            "[!!]Indexing page: 1\n",
            "\n",
            "[%] Indexed 1 Images on Page 1.\n",
            "\n",
            "===============================================\n",
            "\n",
            "[%] Downloading Image #1 from https://cdn.wallpapersafari.com/54/57/VFmTa6.png\n",
            "[%] File Downloaded !\n",
            "\n",
            "\n",
            "\n",
            "[%] Done. Downloaded 1 images.\n",
            "===============================================\n",
            "\n",
            "Please show your support here\n",
            "https://www.buymeacoffee.com/gurugaurav\n",
            "\n",
            "===============================================\n",
            "\n",
            "[MoviePy] >>>> Building video 9.mp4\n",
            "[MoviePy] Writing video 9.mp4\n"
          ]
        },
        {
          "output_type": "stream",
          "name": "stderr",
          "text": [
            " 86%|████████▌ | 6/7 [00:02<00:00,  2.09it/s]\n"
          ]
        },
        {
          "output_type": "stream",
          "name": "stdout",
          "text": [
            "[MoviePy] Done.\n",
            "[MoviePy] >>>> Video ready: 9.mp4 \n",
            "\n",
            "[%] Downloading Images to /content/dataset/Black Background\n",
            "\n",
            "\n",
            "[!!]Indexing page: 1\n",
            "\n",
            "[%] Indexed 1 Images on Page 1.\n",
            "\n",
            "===============================================\n",
            "\n",
            "[%] Downloading Image #1 from https://cdn.wallpapersafari.com/54/57/VFmTa6.png\n",
            "[%] File Downloaded !\n",
            "\n",
            "\n",
            "\n",
            "[%] Done. Downloaded 1 images.\n",
            "===============================================\n",
            "\n",
            "Please show your support here\n",
            "https://www.buymeacoffee.com/gurugaurav\n",
            "\n",
            "===============================================\n",
            "\n",
            "[MoviePy] >>>> Building video 10.mp4\n",
            "[MoviePy] Writing video 10.mp4\n"
          ]
        },
        {
          "output_type": "stream",
          "name": "stderr",
          "text": [
            " 86%|████████▌ | 6/7 [00:02<00:00,  2.33it/s]\n"
          ]
        },
        {
          "output_type": "stream",
          "name": "stdout",
          "text": [
            "[MoviePy] Done.\n",
            "[MoviePy] >>>> Video ready: 10.mp4 \n",
            "\n",
            "[%] Downloading Images to /content/dataset/night\n",
            "\n",
            "\n",
            "[!!]Indexing page: 1\n",
            "\n",
            "[%] Indexed 1 Images on Page 1.\n",
            "\n",
            "===============================================\n",
            "\n",
            "[%] Downloading Image #1 from https://propertyproductionpros.com/wp-content/uploads/2019/12/92_1518_Gordon_Cove_Dr_True_Night_047_48_49_50.jpg\n",
            "[%] File Downloaded !\n",
            "\n",
            "\n",
            "\n",
            "[%] Done. Downloaded 1 images.\n",
            "===============================================\n",
            "\n",
            "Please show your support here\n",
            "https://www.buymeacoffee.com/gurugaurav\n",
            "\n",
            "===============================================\n",
            "\n",
            "[MoviePy] >>>> Building video 11.mp4\n",
            "[MoviePy] Writing video 11.mp4\n"
          ]
        },
        {
          "output_type": "stream",
          "name": "stderr",
          "text": [
            " 86%|████████▌ | 6/7 [00:01<00:00,  3.20it/s]\n"
          ]
        },
        {
          "output_type": "stream",
          "name": "stdout",
          "text": [
            "[MoviePy] Done.\n",
            "[MoviePy] >>>> Video ready: 11.mp4 \n",
            "\n",
            "[%] Downloading Images to /content/dataset/is\n",
            "\n",
            "\n",
            "[!!]Indexing page: 1\n",
            "\n",
            "[%] Indexed 1 Images on Page 1.\n",
            "\n",
            "===============================================\n",
            "\n",
            "[%] Downloading Image #1 from https://presentationarchive.com/truemovies2016/one-f.jpg\n",
            "[%] File Downloaded !\n",
            "\n",
            "\n",
            "\n",
            "[%] Done. Downloaded 1 images.\n",
            "===============================================\n",
            "\n",
            "Please show your support here\n",
            "https://www.buymeacoffee.com/gurugaurav\n",
            "\n",
            "===============================================\n",
            "\n",
            "[MoviePy] >>>> Building video 12.mp4\n",
            "[MoviePy] Writing video 12.mp4\n"
          ]
        },
        {
          "output_type": "stream",
          "name": "stderr",
          "text": [
            " 86%|████████▌ | 6/7 [00:01<00:00,  3.07it/s]"
          ]
        },
        {
          "output_type": "stream",
          "name": "stdout",
          "text": [
            "[MoviePy] Done.\n",
            "[MoviePy] >>>> Video ready: 12.mp4 \n",
            "\n"
          ]
        },
        {
          "output_type": "stream",
          "name": "stderr",
          "text": [
            "\n"
          ]
        },
        {
          "output_type": "stream",
          "name": "stdout",
          "text": [
            "[%] Downloading Images to /content/dataset/cold\n",
            "\n",
            "\n",
            "[!!]Indexing page: 1\n",
            "\n",
            "[%] Indexed 1 Images on Page 1.\n",
            "\n",
            "===============================================\n",
            "\n",
            "[%] Downloading Image #1 from https://s.hdnux.com/photos/65/06/44/13920522/3/1200x0.jpg\n",
            "[%] File Downloaded !\n",
            "\n",
            "\n",
            "\n",
            "[%] Done. Downloaded 1 images.\n",
            "===============================================\n",
            "\n",
            "Please show your support here\n",
            "https://www.buymeacoffee.com/gurugaurav\n",
            "\n",
            "===============================================\n",
            "\n",
            "[MoviePy] >>>> Building video 13.mp4\n",
            "[MoviePy] Writing video 13.mp4\n"
          ]
        },
        {
          "output_type": "stream",
          "name": "stderr",
          "text": [
            " 86%|████████▌ | 6/7 [00:02<00:00,  2.78it/s]\n"
          ]
        },
        {
          "output_type": "stream",
          "name": "stdout",
          "text": [
            "[MoviePy] Done.\n",
            "[MoviePy] >>>> Video ready: 13.mp4 \n",
            "\n",
            "[%] Downloading Images to /content/dataset/in\n",
            "\n",
            "\n",
            "[!!]Indexing page: 1\n",
            "\n",
            "[%] Indexed 1 Images on Page 1.\n",
            "\n",
            "===============================================\n",
            "\n",
            "[%] Downloading Image #1 from https://presentationarchive.com/truemovies2016/one-f.jpg\n",
            "[%] File Downloaded !\n",
            "\n",
            "\n",
            "\n",
            "[%] Done. Downloaded 1 images.\n",
            "===============================================\n",
            "\n",
            "Please show your support here\n",
            "https://www.buymeacoffee.com/gurugaurav\n",
            "\n",
            "===============================================\n",
            "\n",
            "[MoviePy] >>>> Building video 14.mp4\n",
            "[MoviePy] Writing video 14.mp4\n"
          ]
        },
        {
          "output_type": "stream",
          "name": "stderr",
          "text": [
            " 86%|████████▌ | 6/7 [00:02<00:00,  2.53it/s]"
          ]
        },
        {
          "output_type": "stream",
          "name": "stdout",
          "text": [
            "[MoviePy] Done.\n",
            "[MoviePy] >>>> Video ready: 14.mp4 \n",
            "\n"
          ]
        },
        {
          "output_type": "stream",
          "name": "stderr",
          "text": [
            "\n"
          ]
        },
        {
          "output_type": "stream",
          "name": "stdout",
          "text": [
            "[%] Downloading Images to /content/dataset/the\n",
            "\n",
            "\n",
            "[!!]Indexing page: 1\n",
            "\n",
            "[%] Indexed 1 Images on Page 1.\n",
            "\n",
            "===============================================\n",
            "\n",
            "[%] Downloading Image #1 from https://www.onlygfx.com/wp-content/uploads/2018/04/true-stamp-2-1024x1024.png\n",
            "[%] File Downloaded !\n",
            "\n",
            "\n",
            "\n",
            "[%] Done. Downloaded 1 images.\n",
            "===============================================\n",
            "\n",
            "Please show your support here\n",
            "https://www.buymeacoffee.com/gurugaurav\n",
            "\n",
            "===============================================\n",
            "\n",
            "[MoviePy] >>>> Building video 15.mp4\n",
            "[MoviePy] Writing video 15.mp4\n"
          ]
        },
        {
          "output_type": "stream",
          "name": "stderr",
          "text": [
            " 86%|████████▌ | 6/7 [00:02<00:00,  2.49it/s]\n"
          ]
        },
        {
          "output_type": "stream",
          "name": "stdout",
          "text": [
            "[MoviePy] Done.\n",
            "[MoviePy] >>>> Video ready: 15.mp4 \n",
            "\n",
            "[%] Downloading Images to /content/dataset/Kingdom?\n",
            "\n",
            "\n",
            "[!!]Indexing page: 1\n",
            "\n",
            "[%] Indexed 1 Images on Page 1.\n",
            "\n",
            "===============================================\n",
            "\n",
            "[%] Downloading Image #1 from https://www.totallicensing.com/wp-content/uploads/2020/08/TRK_FD_pressimages_169_2-scaled.jpg\n",
            "[%] File Downloaded !\n",
            "\n",
            "\n",
            "\n",
            "[%] Done. Downloaded 1 images.\n",
            "===============================================\n",
            "\n",
            "Please show your support here\n",
            "https://www.buymeacoffee.com/gurugaurav\n",
            "\n",
            "===============================================\n",
            "\n",
            "[MoviePy] >>>> Building video 16.mp4\n",
            "[MoviePy] Writing video 16.mp4\n"
          ]
        },
        {
          "output_type": "stream",
          "name": "stderr",
          "text": [
            " 86%|████████▌ | 6/7 [00:02<00:00,  2.96it/s]\n"
          ]
        },
        {
          "output_type": "stream",
          "name": "stdout",
          "text": [
            "[MoviePy] Done.\n",
            "[MoviePy] >>>> Video ready: 16.mp4 \n",
            "\n",
            "[%] Downloading Images to /content/dataset/I\n",
            "\n",
            "\n",
            "[!!]Indexing page: 1\n",
            "\n",
            "[%] Indexed 1 Images on Page 1.\n",
            "\n",
            "===============================================\n",
            "\n",
            "[%] Downloading Image #1 from https://cdn.statically.io/img/progameguides.com/wp-content/uploads/2021/09/Life-is-Strange-True-Colors-Riley-Letter-1-900x506.jpg\n",
            "[%] File Downloaded !\n",
            "\n",
            "\n",
            "\n",
            "[%] Done. Downloaded 1 images.\n",
            "===============================================\n",
            "\n",
            "Please show your support here\n",
            "https://www.buymeacoffee.com/gurugaurav\n",
            "\n",
            "===============================================\n",
            "\n",
            "[MoviePy] >>>> Building video 17.mp4\n",
            "[MoviePy] Writing video 17.mp4\n"
          ]
        },
        {
          "output_type": "stream",
          "name": "stderr",
          "text": [
            " 86%|████████▌ | 6/7 [00:01<00:00,  3.19it/s]\n"
          ]
        },
        {
          "output_type": "stream",
          "name": "stdout",
          "text": [
            "[MoviePy] Done.\n",
            "[MoviePy] >>>> Video ready: 17.mp4 \n",
            "\n",
            "[%] Downloading Images to /content/dataset/can\n",
            "\n",
            "\n",
            "[!!]Indexing page: 1\n",
            "\n",
            "[%] Indexed 1 Images on Page 1.\n",
            "\n",
            "===============================================\n",
            "\n",
            "[%] Downloading Image #1 from https://i.ebayimg.com/images/g/j4sAAOSwQHpa-8pK/s-l640.jpg\n",
            "[%] File Downloaded !\n",
            "\n",
            "\n",
            "\n",
            "[%] Done. Downloaded 1 images.\n",
            "===============================================\n",
            "\n",
            "Please show your support here\n",
            "https://www.buymeacoffee.com/gurugaurav\n",
            "\n",
            "===============================================\n",
            "\n",
            "[MoviePy] >>>> Building video 18.mp4\n",
            "[MoviePy] Writing video 18.mp4\n"
          ]
        },
        {
          "output_type": "stream",
          "name": "stderr",
          "text": [
            " 86%|████████▌ | 6/7 [00:01<00:00,  3.40it/s]"
          ]
        },
        {
          "output_type": "stream",
          "name": "stdout",
          "text": [
            "[MoviePy] Done.\n",
            "[MoviePy] >>>> Video ready: 18.mp4 \n",
            "\n"
          ]
        },
        {
          "output_type": "stream",
          "name": "stderr",
          "text": [
            "\n"
          ]
        },
        {
          "output_type": "stream",
          "name": "stdout",
          "text": [
            "[%] Downloading Images to /content/dataset/feel\n",
            "\n",
            "\n",
            "[!!]Indexing page: 1\n",
            "\n",
            "[%] Indexed 1 Images on Page 1.\n",
            "\n",
            "===============================================\n",
            "\n",
            "[%] Downloading Image #1 from http://media.vandal.net/i/1200x630/10-2017/2017102021511_1.jpg\n",
            "[%] File Downloaded !\n",
            "\n",
            "\n",
            "\n",
            "[%] Done. Downloaded 1 images.\n",
            "===============================================\n",
            "\n",
            "Please show your support here\n",
            "https://www.buymeacoffee.com/gurugaurav\n",
            "\n",
            "===============================================\n",
            "\n",
            "[MoviePy] >>>> Building video 19.mp4\n",
            "[MoviePy] Writing video 19.mp4\n"
          ]
        },
        {
          "output_type": "stream",
          "name": "stderr",
          "text": [
            " 86%|████████▌ | 6/7 [00:01<00:00,  3.42it/s]"
          ]
        },
        {
          "output_type": "stream",
          "name": "stdout",
          "text": [
            "[MoviePy] Done.\n",
            "[MoviePy] >>>> Video ready: 19.mp4 \n",
            "\n"
          ]
        },
        {
          "output_type": "stream",
          "name": "stderr",
          "text": [
            "\n"
          ]
        },
        {
          "output_type": "stream",
          "name": "stdout",
          "text": [
            "[%] Downloading Images to /content/dataset/you\n",
            "\n",
            "\n",
            "[!!]Indexing page: 1\n",
            "\n",
            "[%] Indexed 1 Images on Page 1.\n",
            "\n",
            "===============================================\n",
            "\n",
            "[%] Downloading Image #1 from http://www.lovethispic.com/uploaded_images/166646-Be-True-To-You.jpg\n",
            "[%] File Downloaded !\n",
            "\n",
            "\n",
            "\n",
            "[%] Done. Downloaded 1 images.\n",
            "===============================================\n",
            "\n",
            "Please show your support here\n",
            "https://www.buymeacoffee.com/gurugaurav\n",
            "\n",
            "===============================================\n",
            "\n",
            "[MoviePy] >>>> Building video 20.mp4\n",
            "[MoviePy] Writing video 20.mp4\n"
          ]
        },
        {
          "output_type": "stream",
          "name": "stderr",
          "text": [
            " 86%|████████▌ | 6/7 [00:02<00:00,  2.83it/s]"
          ]
        },
        {
          "output_type": "stream",
          "name": "stdout",
          "text": [
            "[MoviePy] Done.\n"
          ]
        },
        {
          "output_type": "stream",
          "name": "stderr",
          "text": [
            "\n"
          ]
        },
        {
          "output_type": "stream",
          "name": "stdout",
          "text": [
            "[MoviePy] >>>> Video ready: 20.mp4 \n",
            "\n",
            "[%] Downloading Images to /content/dataset/fade\n",
            "\n",
            "\n",
            "[!!]Indexing page: 1\n",
            "\n",
            "[%] Indexed 1 Images on Page 1.\n",
            "\n",
            "===============================================\n",
            "\n",
            "[%] Downloading Image #1 from https://haircutinspiration.com/wp-content/uploads/Disconnected-Line-with-Taper-Fade.jpg\n",
            "[%] File Downloaded !\n",
            "\n",
            "\n",
            "\n",
            "[%] Done. Downloaded 1 images.\n",
            "===============================================\n",
            "\n",
            "Please show your support here\n",
            "https://www.buymeacoffee.com/gurugaurav\n",
            "\n",
            "===============================================\n",
            "\n",
            "[MoviePy] >>>> Building video 21.mp4\n",
            "[MoviePy] Writing video 21.mp4\n"
          ]
        },
        {
          "output_type": "stream",
          "name": "stderr",
          "text": [
            " 86%|████████▌ | 6/7 [00:02<00:00,  2.58it/s]\n"
          ]
        },
        {
          "output_type": "stream",
          "name": "stdout",
          "text": [
            "[MoviePy] Done.\n",
            "[MoviePy] >>>> Video ready: 21.mp4 \n",
            "\n",
            "[%] Downloading Images to /content/dataset/away?\n",
            "\n",
            "\n",
            "[!!]Indexing page: 1\n",
            "\n",
            "[%] Indexed 1 Images on Page 1.\n",
            "\n",
            "===============================================\n",
            "\n",
            "[%] Downloading Image #1 from https://themoviesinside.com/wp-content/uploads/2021/01/castaway-2-1024x776.jpg\n",
            "[%] File Downloaded !\n",
            "\n",
            "\n",
            "\n",
            "[%] Done. Downloaded 1 images.\n",
            "===============================================\n",
            "\n",
            "Please show your support here\n",
            "https://www.buymeacoffee.com/gurugaurav\n",
            "\n",
            "===============================================\n",
            "\n",
            "[MoviePy] >>>> Building video 22.mp4\n",
            "[MoviePy] Writing video 22.mp4\n"
          ]
        },
        {
          "output_type": "stream",
          "name": "stderr",
          "text": [
            " 86%|████████▌ | 6/7 [00:01<00:00,  3.25it/s]\n"
          ]
        },
        {
          "output_type": "stream",
          "name": "stdout",
          "text": [
            "[MoviePy] Done.\n",
            "[MoviePy] >>>> Video ready: 22.mp4 \n",
            "\n",
            "[%] Downloading Images to /content/dataset/From\n",
            "\n",
            "\n",
            "[!!]Indexing page: 1\n",
            "\n",
            "[%] Indexed 1 Images on Page 1.\n",
            "\n",
            "===============================================\n",
            "\n",
            "[%] Downloading Image #1 from https://presentationarchive.com/truemovies2016/one-f.jpg\n",
            "[%] File Downloaded !\n",
            "\n",
            "\n",
            "\n",
            "[%] Done. Downloaded 1 images.\n",
            "===============================================\n",
            "\n",
            "Please show your support here\n",
            "https://www.buymeacoffee.com/gurugaurav\n",
            "\n",
            "===============================================\n",
            "\n",
            "[MoviePy] >>>> Building video 23.mp4\n",
            "[MoviePy] Writing video 23.mp4\n"
          ]
        },
        {
          "output_type": "stream",
          "name": "stderr",
          "text": [
            " 86%|████████▌ | 6/7 [00:02<00:00,  2.61it/s]\n"
          ]
        },
        {
          "output_type": "stream",
          "name": "stdout",
          "text": [
            "[MoviePy] Done.\n",
            "[MoviePy] >>>> Video ready: 23.mp4 \n",
            "\n",
            "[%] Downloading Images to /content/dataset/the\n",
            "\n",
            "\n",
            "[!!]Indexing page: 1\n",
            "\n",
            "[%] Indexed 1 Images on Page 1.\n",
            "\n",
            "===============================================\n",
            "\n",
            "[%] Downloading Image #1 from https://www.onlygfx.com/wp-content/uploads/2018/04/true-stamp-2-1024x1024.png\n",
            "[%] File Downloaded !\n",
            "\n",
            "\n",
            "\n",
            "[%] Done. Downloaded 1 images.\n",
            "===============================================\n",
            "\n",
            "Please show your support here\n",
            "https://www.buymeacoffee.com/gurugaurav\n",
            "\n",
            "===============================================\n",
            "\n",
            "[MoviePy] >>>> Building video 24.mp4\n",
            "[MoviePy] Writing video 24.mp4\n"
          ]
        },
        {
          "output_type": "stream",
          "name": "stderr",
          "text": [
            " 86%|████████▌ | 6/7 [00:03<00:00,  1.75it/s]\n"
          ]
        },
        {
          "output_type": "stream",
          "name": "stdout",
          "text": [
            "[MoviePy] Done.\n",
            "[MoviePy] >>>> Video ready: 24.mp4 \n",
            "\n",
            "[%] Downloading Images to /content/dataset/kitchen\n",
            "\n",
            "\n",
            "[!!]Indexing page: 1\n",
            "\n",
            "[%] Indexed 1 Images on Page 1.\n",
            "\n",
            "===============================================\n",
            "\n",
            "[%] Downloading Image #1 from https://i.pinimg.com/originals/36/67/12/3667127d39c679e2ff96ee42e2a8ea45.jpg\n",
            "[%] File Downloaded !\n",
            "\n",
            "\n",
            "\n",
            "[%] Done. Downloaded 1 images.\n",
            "===============================================\n",
            "\n",
            "Please show your support here\n",
            "https://www.buymeacoffee.com/gurugaurav\n",
            "\n",
            "===============================================\n",
            "\n",
            "[MoviePy] >>>> Building video 25.mp4\n",
            "[MoviePy] Writing video 25.mp4\n"
          ]
        },
        {
          "output_type": "stream",
          "name": "stderr",
          "text": [
            " 86%|████████▌ | 6/7 [00:01<00:00,  3.09it/s]\n"
          ]
        },
        {
          "output_type": "stream",
          "name": "stdout",
          "text": [
            "[MoviePy] Done.\n",
            "[MoviePy] >>>> Video ready: 25.mp4 \n",
            "\n",
            "[%] Downloading Images to /content/dataset/to\n",
            "\n",
            "\n",
            "[!!]Indexing page: 1\n",
            "\n",
            "[%] Indexed 1 Images on Page 1.\n",
            "\n",
            "===============================================\n",
            "\n",
            "[%] Downloading Image #1 from https://presentationarchive.com/truemovies2016/one-f.jpg\n",
            "[%] File Downloaded !\n",
            "\n",
            "\n",
            "\n",
            "[%] Done. Downloaded 1 images.\n",
            "===============================================\n",
            "\n",
            "Please show your support here\n",
            "https://www.buymeacoffee.com/gurugaurav\n",
            "\n",
            "===============================================\n",
            "\n",
            "[MoviePy] >>>> Building video 26.mp4\n",
            "[MoviePy] Writing video 26.mp4\n"
          ]
        },
        {
          "output_type": "stream",
          "name": "stderr",
          "text": [
            " 86%|████████▌ | 6/7 [00:01<00:00,  3.11it/s]"
          ]
        },
        {
          "output_type": "stream",
          "name": "stdout",
          "text": [
            "[MoviePy] Done.\n",
            "[MoviePy] >>>> Video ready: 26.mp4 \n",
            "\n"
          ]
        },
        {
          "output_type": "stream",
          "name": "stderr",
          "text": [
            "\n"
          ]
        },
        {
          "output_type": "stream",
          "name": "stdout",
          "text": [
            "[%] Downloading Images to /content/dataset/the\n",
            "\n",
            "\n",
            "[!!]Indexing page: 1\n",
            "\n",
            "[%] Indexed 1 Images on Page 1.\n",
            "\n",
            "===============================================\n",
            "\n",
            "[%] Downloading Image #1 from https://www.onlygfx.com/wp-content/uploads/2018/04/true-stamp-2-1024x1024.png\n",
            "[%] File Downloaded !\n",
            "\n",
            "\n",
            "\n",
            "[%] Done. Downloaded 1 images.\n",
            "===============================================\n",
            "\n",
            "Please show your support here\n",
            "https://www.buymeacoffee.com/gurugaurav\n",
            "\n",
            "===============================================\n",
            "\n",
            "[MoviePy] >>>> Building video 27.mp4\n",
            "[MoviePy] Writing video 27.mp4\n"
          ]
        },
        {
          "output_type": "stream",
          "name": "stderr",
          "text": [
            " 86%|████████▌ | 6/7 [00:02<00:00,  2.20it/s]\n"
          ]
        },
        {
          "output_type": "stream",
          "name": "stdout",
          "text": [
            "[MoviePy] Done.\n",
            "[MoviePy] >>>> Video ready: 27.mp4 \n",
            "\n",
            "[%] Downloading Images to /content/dataset/bathroom?\n",
            "\n",
            "\n",
            "[!!]Indexing page: 1\n",
            "\n",
            "[%] Indexed 1 Images on Page 1.\n",
            "\n",
            "===============================================\n",
            "\n",
            "[%] Downloading Image #1 from https://i.pinimg.com/originals/77/b0/ee/77b0ee61464b22c6f6d82ca81123c34d.jpg\n",
            "[%] File Downloaded !\n",
            "\n",
            "\n",
            "\n",
            "[%] Done. Downloaded 1 images.\n",
            "===============================================\n",
            "\n",
            "Please show your support here\n",
            "https://www.buymeacoffee.com/gurugaurav\n",
            "\n",
            "===============================================\n",
            "\n",
            "[MoviePy] >>>> Building video 28.mp4\n",
            "[MoviePy] Writing video 28.mp4\n"
          ]
        },
        {
          "output_type": "stream",
          "name": "stderr",
          "text": [
            " 86%|████████▌ | 6/7 [00:02<00:00,  2.99it/s]\n"
          ]
        },
        {
          "output_type": "stream",
          "name": "stdout",
          "text": [
            "[MoviePy] Done.\n",
            "[MoviePy] >>>> Video ready: 28.mp4 \n",
            "\n",
            "[%] Downloading Images to /content/dataset/Sinking\n",
            "\n",
            "\n",
            "[!!]Indexing page: 1\n",
            "\n",
            "[%] Indexed 1 Images on Page 1.\n",
            "\n",
            "===============================================\n",
            "\n",
            "[%] Downloading Image #1 from https://i.ytimg.com/vi/_s73nS4tnYk/maxresdefault.jpg\n",
            "[%] File Downloaded !\n",
            "\n",
            "\n",
            "\n",
            "[%] Done. Downloaded 1 images.\n",
            "===============================================\n",
            "\n",
            "Please show your support here\n",
            "https://www.buymeacoffee.com/gurugaurav\n",
            "\n",
            "===============================================\n",
            "\n",
            "[MoviePy] >>>> Building video 29.mp4\n",
            "[MoviePy] Writing video 29.mp4\n"
          ]
        },
        {
          "output_type": "stream",
          "name": "stderr",
          "text": [
            " 86%|████████▌ | 6/7 [00:01<00:00,  3.22it/s]\n"
          ]
        },
        {
          "output_type": "stream",
          "name": "stdout",
          "text": [
            "[MoviePy] Done.\n",
            "[MoviePy] >>>> Video ready: 29.mp4 \n",
            "\n",
            "[%] Downloading Images to /content/dataset/your\n",
            "\n",
            "\n",
            "[!!]Indexing page: 1\n",
            "\n",
            "[%] Indexed 1 Images on Page 1.\n",
            "\n",
            "===============================================\n",
            "\n",
            "[%] Downloading Image #1 from https://res.cloudinary.com/teepublic/image/private/s--GnkHwG_9--/t_Preview/b_rgb:191919,c_limit,f_jpg,h_630,q_90,w_630/v1560080939/production/designs/5026413_0.jpg\n",
            "[%] File Downloaded !\n",
            "\n",
            "\n",
            "\n",
            "[%] Done. Downloaded 1 images.\n",
            "===============================================\n",
            "\n",
            "Please show your support here\n",
            "https://www.buymeacoffee.com/gurugaurav\n",
            "\n",
            "===============================================\n",
            "\n",
            "[MoviePy] >>>> Building video 30.mp4\n",
            "[MoviePy] Writing video 30.mp4\n"
          ]
        },
        {
          "output_type": "stream",
          "name": "stderr",
          "text": [
            " 86%|████████▌ | 6/7 [00:02<00:00,  2.94it/s]"
          ]
        },
        {
          "output_type": "stream",
          "name": "stdout",
          "text": [
            "[MoviePy] Done.\n",
            "[MoviePy] >>>> Video ready: 30.mp4 \n",
            "\n"
          ]
        },
        {
          "output_type": "stream",
          "name": "stderr",
          "text": [
            "\n"
          ]
        },
        {
          "output_type": "stream",
          "name": "stdout",
          "text": [
            "[%] Downloading Images to /content/dataset/steps\n",
            "\n",
            "\n",
            "[!!]Indexing page: 1\n",
            "\n",
            "[%] Indexed 1 Images on Page 1.\n",
            "\n",
            "===============================================\n",
            "\n",
            "[%] Downloading Image #1 from https://i.pinimg.com/originals/dd/13/74/dd1374ee0dd2a6c421ef72be78365ff7.jpg\n",
            "[%] File Downloaded !\n",
            "\n",
            "\n",
            "\n",
            "[%] Done. Downloaded 1 images.\n",
            "===============================================\n",
            "\n",
            "Please show your support here\n",
            "https://www.buymeacoffee.com/gurugaurav\n",
            "\n",
            "===============================================\n",
            "\n",
            "[MoviePy] >>>> Building video 31.mp4\n",
            "[MoviePy] Writing video 31.mp4\n"
          ]
        },
        {
          "output_type": "stream",
          "name": "stderr",
          "text": [
            " 86%|████████▌ | 6/7 [00:01<00:00,  3.09it/s]\n"
          ]
        },
        {
          "output_type": "stream",
          "name": "stdout",
          "text": [
            "[MoviePy] Done.\n",
            "[MoviePy] >>>> Video ready: 31.mp4 \n",
            "\n",
            "[%] Downloading Images to /content/dataset/keep\n",
            "\n",
            "\n",
            "[!!]Indexing page: 1\n",
            "\n",
            "[%] Indexed 1 Images on Page 1.\n",
            "\n",
            "===============================================\n",
            "\n",
            "[%] Downloading Image #1 from https://i.pinimg.com/736x/ca/d0/31/cad0318fec00228f4eb78109c5a9d325--flyer-it.jpg\n",
            "[%] File Downloaded !\n",
            "\n",
            "\n",
            "\n",
            "[%] Done. Downloaded 1 images.\n",
            "===============================================\n",
            "\n",
            "Please show your support here\n",
            "https://www.buymeacoffee.com/gurugaurav\n",
            "\n",
            "===============================================\n",
            "\n",
            "[MoviePy] >>>> Building video 32.mp4\n",
            "[MoviePy] Writing video 32.mp4\n"
          ]
        },
        {
          "output_type": "stream",
          "name": "stderr",
          "text": [
            " 86%|████████▌ | 6/7 [00:01<00:00,  3.51it/s]\n"
          ]
        },
        {
          "output_type": "stream",
          "name": "stdout",
          "text": [
            "[MoviePy] Done.\n",
            "[MoviePy] >>>> Video ready: 32.mp4 \n",
            "\n",
            "[%] Downloading Images to /content/dataset/me\n",
            "\n",
            "\n",
            "[!!]Indexing page: 1\n",
            "\n",
            "[%] Indexed 1 Images on Page 1.\n",
            "\n",
            "===============================================\n",
            "\n",
            "[%] Downloading Image #1 from https://mir-s3-cdn-cf.behance.net/project_modules/max_1200/db4b1166282349.5b107ff16e8ba.jpg\n",
            "[Error]Invalid image, not saving https://mir-s3-cdn-cf.behance.net/project_modules/max_1200/db4b1166282349.5b107ff16e8ba.jpg\n",
            "\n",
            "[!] Issue getting: https://mir-s3-cdn-cf.behance.net/project_modules/max_1200/db4b1166282349.5b107ff16e8ba.jpg\n",
            "[!] Error:: Invalid image, not saving https://mir-s3-cdn-cf.behance.net/project_modules/max_1200/db4b1166282349.5b107ff16e8ba.jpg\n",
            "\n",
            "\n",
            "\n",
            "[!!]Indexing page: 2\n",
            "\n",
            "[%] Indexed 37 Images on Page 2.\n",
            "\n",
            "===============================================\n",
            "\n",
            "[%] Downloading Image #1 from https://mir-s3-cdn-cf.behance.net/project_modules/max_1200/db4b1166282349.5b107ff16e8ba.jpg\n",
            "[Error]Invalid image, not saving https://mir-s3-cdn-cf.behance.net/project_modules/max_1200/db4b1166282349.5b107ff16e8ba.jpg\n",
            "\n",
            "[!] Issue getting: https://mir-s3-cdn-cf.behance.net/project_modules/max_1200/db4b1166282349.5b107ff16e8ba.jpg\n",
            "[!] Error:: Invalid image, not saving https://mir-s3-cdn-cf.behance.net/project_modules/max_1200/db4b1166282349.5b107ff16e8ba.jpg\n",
            "\n",
            "[%] Downloading Image #1 from https://vangogh.teespring.com/shirt_pic/5741263/6631729/95/2270/480x9999/front.png?v=2016-06-10-23-12\n",
            "[%] File Downloaded !\n",
            "\n",
            "\n",
            "\n",
            "[%] Done. Downloaded 1 images.\n",
            "===============================================\n",
            "\n",
            "Please show your support here\n",
            "https://www.buymeacoffee.com/gurugaurav\n",
            "\n",
            "===============================================\n",
            "\n",
            "[MoviePy] >>>> Building video 33.mp4\n",
            "[MoviePy] Writing video 33.mp4\n"
          ]
        },
        {
          "output_type": "stream",
          "name": "stderr",
          "text": [
            " 86%|████████▌ | 6/7 [00:02<00:00,  2.91it/s]"
          ]
        },
        {
          "output_type": "stream",
          "name": "stdout",
          "text": [
            "[MoviePy] Done.\n",
            "[MoviePy] >>>> Video ready: 33.mp4 \n",
            "\n"
          ]
        },
        {
          "output_type": "stream",
          "name": "stderr",
          "text": [
            "\n"
          ]
        },
        {
          "output_type": "stream",
          "name": "stdout",
          "text": [
            "[%] Downloading Images to /content/dataset/away?\n",
            "\n",
            "\n",
            "[!!]Indexing page: 1\n",
            "\n",
            "[%] Indexed 1 Images on Page 1.\n",
            "\n",
            "===============================================\n",
            "\n",
            "[%] Downloading Image #1 from https://themoviesinside.com/wp-content/uploads/2021/01/castaway-2-1024x776.jpg\n",
            "[%] File Downloaded !\n",
            "\n",
            "\n",
            "\n",
            "[%] Done. Downloaded 1 images.\n",
            "===============================================\n",
            "\n",
            "Please show your support here\n",
            "https://www.buymeacoffee.com/gurugaurav\n",
            "\n",
            "===============================================\n",
            "\n",
            "[MoviePy] >>>> Building video 34.mp4\n",
            "[MoviePy] Writing video 34.mp4\n"
          ]
        },
        {
          "output_type": "stream",
          "name": "stderr",
          "text": [
            " 86%|████████▌ | 6/7 [00:01<00:00,  3.06it/s]\n"
          ]
        },
        {
          "output_type": "stream",
          "name": "stdout",
          "text": [
            "[MoviePy] Done.\n",
            "[MoviePy] >>>> Video ready: 34.mp4 \n",
            "\n",
            "[%] Downloading Images to /content/dataset/Don't\n",
            "\n",
            "\n",
            "[!!]Indexing page: 1\n",
            "\n",
            "[%] Indexed 1 Images on Page 1.\n",
            "\n",
            "===============================================\n",
            "\n",
            "[%] Downloading Image #1 from https://s-media-cache-ak0.pinimg.com/736x/4e/6d/1e/4e6d1e00b89ae886184bfaec28a4d69f.jpg\n",
            "[%] File Downloaded !\n",
            "\n",
            "\n",
            "\n",
            "[%] Done. Downloaded 1 images.\n",
            "===============================================\n",
            "\n",
            "Please show your support here\n",
            "https://www.buymeacoffee.com/gurugaurav\n",
            "\n",
            "===============================================\n",
            "\n",
            "[MoviePy] >>>> Building video 35.mp4\n",
            "[MoviePy] Writing video 35.mp4\n"
          ]
        },
        {
          "output_type": "stream",
          "name": "stderr",
          "text": [
            " 86%|████████▌ | 6/7 [00:02<00:00,  2.76it/s]"
          ]
        },
        {
          "output_type": "stream",
          "name": "stdout",
          "text": [
            "[MoviePy] Done.\n",
            "[MoviePy] >>>> Video ready: 35.mp4 \n",
            "\n"
          ]
        },
        {
          "output_type": "stream",
          "name": "stderr",
          "text": [
            "\n"
          ]
        },
        {
          "output_type": "stream",
          "name": "stdout",
          "text": [
            "[%] Downloading Images to /content/dataset/cut\n",
            "\n",
            "\n",
            "[!!]Indexing page: 1\n",
            "\n",
            "[%] Indexed 1 Images on Page 1.\n",
            "\n",
            "===============================================\n",
            "\n",
            "[%] Downloading Image #1 from https://www.jbsewing.com/content/images/thumbs/0004120_true-cut-appligrips_445.png\n",
            "[%] File Downloaded !\n",
            "\n",
            "\n",
            "\n",
            "[%] Done. Downloaded 1 images.\n",
            "===============================================\n",
            "\n",
            "Please show your support here\n",
            "https://www.buymeacoffee.com/gurugaurav\n",
            "\n",
            "===============================================\n",
            "\n",
            "[MoviePy] >>>> Building video 36.mp4\n",
            "[MoviePy] Writing video 36.mp4\n"
          ]
        },
        {
          "output_type": "stream",
          "name": "stderr",
          "text": [
            " 86%|████████▌ | 6/7 [00:02<00:00,  2.76it/s]"
          ]
        },
        {
          "output_type": "stream",
          "name": "stdout",
          "text": [
            "[MoviePy] Done.\n",
            "[MoviePy] >>>> Video ready: 36.mp4 \n",
            "\n"
          ]
        },
        {
          "output_type": "stream",
          "name": "stderr",
          "text": [
            "\n"
          ]
        },
        {
          "output_type": "stream",
          "name": "stdout",
          "text": [
            "[%] Downloading Images to /content/dataset/me\n",
            "\n",
            "\n",
            "[!!]Indexing page: 1\n",
            "\n",
            "[%] Indexed 1 Images on Page 1.\n",
            "\n",
            "===============================================\n",
            "\n",
            "[%] Downloading Image #1 from https://mir-s3-cdn-cf.behance.net/project_modules/max_1200/db4b1166282349.5b107ff16e8ba.jpg\n",
            "[Error]Invalid image, not saving https://mir-s3-cdn-cf.behance.net/project_modules/max_1200/db4b1166282349.5b107ff16e8ba.jpg\n",
            "\n",
            "[!] Issue getting: https://mir-s3-cdn-cf.behance.net/project_modules/max_1200/db4b1166282349.5b107ff16e8ba.jpg\n",
            "[!] Error:: Invalid image, not saving https://mir-s3-cdn-cf.behance.net/project_modules/max_1200/db4b1166282349.5b107ff16e8ba.jpg\n",
            "\n",
            "\n",
            "\n",
            "[!!]Indexing page: 2\n",
            "\n",
            "[%] Indexed 37 Images on Page 2.\n",
            "\n",
            "===============================================\n",
            "\n",
            "[%] Downloading Image #1 from https://mir-s3-cdn-cf.behance.net/project_modules/max_1200/db4b1166282349.5b107ff16e8ba.jpg\n",
            "[Error]Invalid image, not saving https://mir-s3-cdn-cf.behance.net/project_modules/max_1200/db4b1166282349.5b107ff16e8ba.jpg\n",
            "\n",
            "[!] Issue getting: https://mir-s3-cdn-cf.behance.net/project_modules/max_1200/db4b1166282349.5b107ff16e8ba.jpg\n",
            "[!] Error:: Invalid image, not saving https://mir-s3-cdn-cf.behance.net/project_modules/max_1200/db4b1166282349.5b107ff16e8ba.jpg\n",
            "\n",
            "[%] Downloading Image #1 from https://vangogh.teespring.com/shirt_pic/5741263/6631729/95/2270/480x9999/front.png?v=2016-06-10-23-12\n",
            "[%] File Downloaded !\n",
            "\n",
            "\n",
            "\n",
            "[%] Done. Downloaded 1 images.\n",
            "===============================================\n",
            "\n",
            "Please show your support here\n",
            "https://www.buymeacoffee.com/gurugaurav\n",
            "\n",
            "===============================================\n",
            "\n",
            "[MoviePy] >>>> Building video 37.mp4\n",
            "[MoviePy] Writing video 37.mp4\n"
          ]
        },
        {
          "output_type": "stream",
          "name": "stderr",
          "text": [
            " 86%|████████▌ | 6/7 [00:01<00:00,  3.21it/s]"
          ]
        },
        {
          "output_type": "stream",
          "name": "stdout",
          "text": [
            "[MoviePy] Done.\n",
            "[MoviePy] >>>> Video ready: 37.mp4 \n",
            "\n"
          ]
        },
        {
          "output_type": "stream",
          "name": "stderr",
          "text": [
            "\n"
          ]
        },
        {
          "output_type": "stream",
          "name": "stdout",
          "text": [
            "[%] Downloading Images to /content/dataset/down\n",
            "\n",
            "\n",
            "[!!]Indexing page: 1\n",
            "\n",
            "[%] Indexed 1 Images on Page 1.\n",
            "\n",
            "===============================================\n",
            "\n",
            "[%] Downloading Image #1 from https://www.nataliacrawford.com/wp-content/uploads/2022/01/haglofs-bield-down-hoody-true-black-clothing-haglofs-jackets_2.jpg\n",
            "[%] File Downloaded !\n",
            "\n",
            "\n",
            "\n",
            "[%] Done. Downloaded 1 images.\n",
            "===============================================\n",
            "\n",
            "Please show your support here\n",
            "https://www.buymeacoffee.com/gurugaurav\n",
            "\n",
            "===============================================\n",
            "\n",
            "[MoviePy] >>>> Building video 38.mp4\n",
            "[MoviePy] Writing video 38.mp4\n"
          ]
        },
        {
          "output_type": "stream",
          "name": "stderr",
          "text": [
            " 86%|████████▌ | 6/7 [00:02<00:00,  2.47it/s]"
          ]
        },
        {
          "output_type": "stream",
          "name": "stdout",
          "text": [
            "[MoviePy] Done.\n",
            "[MoviePy] >>>> Video ready: 38.mp4 \n",
            "\n"
          ]
        },
        {
          "output_type": "stream",
          "name": "stderr",
          "text": [
            "\n"
          ]
        },
        {
          "output_type": "stream",
          "name": "stdout",
          "text": [
            "[%] Downloading Images to /content/dataset/and\n",
            "\n",
            "\n",
            "[!!]Indexing page: 1\n",
            "\n",
            "[%] Indexed 1 Images on Page 1.\n",
            "\n",
            "===============================================\n",
            "\n",
            "[%] Downloading Image #1 from https://www.onlygfx.com/wp-content/uploads/2018/04/true-stamp-1.png\n",
            "[%] File Downloaded !\n",
            "\n",
            "\n",
            "\n",
            "[%] Done. Downloaded 1 images.\n",
            "===============================================\n",
            "\n",
            "Please show your support here\n",
            "https://www.buymeacoffee.com/gurugaurav\n",
            "\n",
            "===============================================\n",
            "\n",
            "[MoviePy] >>>> Building video 39.mp4\n",
            "[MoviePy] Writing video 39.mp4\n"
          ]
        },
        {
          "output_type": "stream",
          "name": "stderr",
          "text": [
            " 86%|████████▌ | 6/7 [00:03<00:00,  1.99it/s]"
          ]
        },
        {
          "output_type": "stream",
          "name": "stdout",
          "text": [
            "[MoviePy] Done.\n",
            "[MoviePy] >>>> Video ready: 39.mp4 \n",
            "\n"
          ]
        },
        {
          "output_type": "stream",
          "name": "stderr",
          "text": [
            "\n"
          ]
        },
        {
          "output_type": "stream",
          "name": "stdout",
          "text": [
            "[%] Downloading Images to /content/dataset/pull\n",
            "\n",
            "\n",
            "[!!]Indexing page: 1\n",
            "\n",
            "[%] Indexed 1 Images on Page 1.\n",
            "\n",
            "===============================================\n",
            "\n",
            "[%] Downloading Image #1 from http://cdn.shopify.com/s/files/1/0220/4008/4552/products/4600_CARDINALRED_1_1200x1200.jpg?v=1612150842\n",
            "[%] File Downloaded !\n",
            "\n",
            "\n",
            "\n",
            "[%] Done. Downloaded 1 images.\n",
            "===============================================\n",
            "\n",
            "Please show your support here\n",
            "https://www.buymeacoffee.com/gurugaurav\n",
            "\n",
            "===============================================\n",
            "\n",
            "[MoviePy] >>>> Building video 40.mp4\n",
            "[MoviePy] Writing video 40.mp4\n"
          ]
        },
        {
          "output_type": "stream",
          "name": "stderr",
          "text": [
            " 86%|████████▌ | 6/7 [00:02<00:00,  2.87it/s]\n"
          ]
        },
        {
          "output_type": "stream",
          "name": "stdout",
          "text": [
            "[MoviePy] Done.\n",
            "[MoviePy] >>>> Video ready: 40.mp4 \n",
            "\n",
            "[%] Downloading Images to /content/dataset/me\n",
            "\n",
            "\n",
            "[!!]Indexing page: 1\n",
            "\n",
            "[%] Indexed 1 Images on Page 1.\n",
            "\n",
            "===============================================\n",
            "\n",
            "[%] Downloading Image #1 from https://mir-s3-cdn-cf.behance.net/project_modules/max_1200/db4b1166282349.5b107ff16e8ba.jpg\n",
            "[Error]Invalid image, not saving https://mir-s3-cdn-cf.behance.net/project_modules/max_1200/db4b1166282349.5b107ff16e8ba.jpg\n",
            "\n",
            "[!] Issue getting: https://mir-s3-cdn-cf.behance.net/project_modules/max_1200/db4b1166282349.5b107ff16e8ba.jpg\n",
            "[!] Error:: Invalid image, not saving https://mir-s3-cdn-cf.behance.net/project_modules/max_1200/db4b1166282349.5b107ff16e8ba.jpg\n",
            "\n",
            "\n",
            "\n",
            "[!!]Indexing page: 2\n",
            "\n",
            "[%] Indexed 37 Images on Page 2.\n",
            "\n",
            "===============================================\n",
            "\n",
            "[%] Downloading Image #1 from https://mir-s3-cdn-cf.behance.net/project_modules/max_1200/db4b1166282349.5b107ff16e8ba.jpg\n",
            "[Error]Invalid image, not saving https://mir-s3-cdn-cf.behance.net/project_modules/max_1200/db4b1166282349.5b107ff16e8ba.jpg\n",
            "\n",
            "[!] Issue getting: https://mir-s3-cdn-cf.behance.net/project_modules/max_1200/db4b1166282349.5b107ff16e8ba.jpg\n",
            "[!] Error:: Invalid image, not saving https://mir-s3-cdn-cf.behance.net/project_modules/max_1200/db4b1166282349.5b107ff16e8ba.jpg\n",
            "\n",
            "[%] Downloading Image #1 from https://vangogh.teespring.com/shirt_pic/5741263/6631729/95/2270/480x9999/front.png?v=2016-06-10-23-12\n",
            "[%] File Downloaded !\n",
            "\n",
            "\n",
            "\n",
            "[%] Done. Downloaded 1 images.\n",
            "===============================================\n",
            "\n",
            "Please show your support here\n",
            "https://www.buymeacoffee.com/gurugaurav\n",
            "\n",
            "===============================================\n",
            "\n",
            "[MoviePy] >>>> Building video 41.mp4\n",
            "[MoviePy] Writing video 41.mp4\n"
          ]
        },
        {
          "output_type": "stream",
          "name": "stderr",
          "text": [
            " 86%|████████▌ | 6/7 [00:02<00:00,  2.69it/s]"
          ]
        },
        {
          "output_type": "stream",
          "name": "stdout",
          "text": [
            "[MoviePy] Done.\n",
            "[MoviePy] >>>> Video ready: 41.mp4 \n",
            "\n"
          ]
        },
        {
          "output_type": "stream",
          "name": "stderr",
          "text": [
            "\n"
          ]
        },
        {
          "output_type": "stream",
          "name": "stdout",
          "text": [
            "[%] Downloading Images to /content/dataset/out\n",
            "\n",
            "\n",
            "[!!]Indexing page: 1\n",
            "\n",
            "[%] Indexed 1 Images on Page 1.\n",
            "\n",
            "===============================================\n",
            "\n",
            "[%] Downloading Image #1 from https://i.ytimg.com/vi/cqDo9_Lb17k/maxresdefault.jpg\n",
            "[%] File Downloaded !\n",
            "\n",
            "\n",
            "\n",
            "[%] Done. Downloaded 1 images.\n",
            "===============================================\n",
            "\n",
            "Please show your support here\n",
            "https://www.buymeacoffee.com/gurugaurav\n",
            "\n",
            "===============================================\n",
            "\n",
            "[MoviePy] >>>> Building video 42.mp4\n",
            "[MoviePy] Writing video 42.mp4\n"
          ]
        },
        {
          "output_type": "stream",
          "name": "stderr",
          "text": [
            " 86%|████████▌ | 6/7 [00:02<00:00,  2.68it/s]\n"
          ]
        },
        {
          "output_type": "stream",
          "name": "stdout",
          "text": [
            "[MoviePy] Done.\n",
            "[MoviePy] >>>> Video ready: 42.mp4 \n",
            "\n",
            "[%] Downloading Images to /content/dataset/in\n",
            "\n",
            "\n",
            "[!!]Indexing page: 1\n",
            "\n",
            "[%] Indexed 1 Images on Page 1.\n",
            "\n",
            "===============================================\n",
            "\n",
            "[%] Downloading Image #1 from https://presentationarchive.com/truemovies2016/one-f.jpg\n",
            "[%] File Downloaded !\n",
            "\n",
            "\n",
            "\n",
            "[%] Done. Downloaded 1 images.\n",
            "===============================================\n",
            "\n",
            "Please show your support here\n",
            "https://www.buymeacoffee.com/gurugaurav\n",
            "\n",
            "===============================================\n",
            "\n",
            "[MoviePy] >>>> Building video 43.mp4\n",
            "[MoviePy] Writing video 43.mp4\n"
          ]
        },
        {
          "output_type": "stream",
          "name": "stderr",
          "text": [
            " 86%|████████▌ | 6/7 [00:03<00:00,  1.94it/s]\n"
          ]
        },
        {
          "output_type": "stream",
          "name": "stdout",
          "text": [
            "[MoviePy] Done.\n",
            "[MoviePy] >>>> Video ready: 43.mp4 \n",
            "\n",
            "[%] Downloading Images to /content/dataset/me\n",
            "\n",
            "\n",
            "[!!]Indexing page: 1\n",
            "\n",
            "[%] Indexed 1 Images on Page 1.\n",
            "\n",
            "===============================================\n",
            "\n",
            "[%] Downloading Image #1 from https://mir-s3-cdn-cf.behance.net/project_modules/max_1200/db4b1166282349.5b107ff16e8ba.jpg\n",
            "[Error]Invalid image, not saving https://mir-s3-cdn-cf.behance.net/project_modules/max_1200/db4b1166282349.5b107ff16e8ba.jpg\n",
            "\n",
            "[!] Issue getting: https://mir-s3-cdn-cf.behance.net/project_modules/max_1200/db4b1166282349.5b107ff16e8ba.jpg\n",
            "[!] Error:: Invalid image, not saving https://mir-s3-cdn-cf.behance.net/project_modules/max_1200/db4b1166282349.5b107ff16e8ba.jpg\n",
            "\n",
            "\n",
            "\n",
            "[!!]Indexing page: 2\n",
            "\n",
            "[%] Indexed 37 Images on Page 2.\n",
            "\n",
            "===============================================\n",
            "\n",
            "[%] Downloading Image #1 from https://mir-s3-cdn-cf.behance.net/project_modules/max_1200/db4b1166282349.5b107ff16e8ba.jpg\n",
            "[Error]Invalid image, not saving https://mir-s3-cdn-cf.behance.net/project_modules/max_1200/db4b1166282349.5b107ff16e8ba.jpg\n",
            "\n",
            "[!] Issue getting: https://mir-s3-cdn-cf.behance.net/project_modules/max_1200/db4b1166282349.5b107ff16e8ba.jpg\n",
            "[!] Error:: Invalid image, not saving https://mir-s3-cdn-cf.behance.net/project_modules/max_1200/db4b1166282349.5b107ff16e8ba.jpg\n",
            "\n",
            "[%] Downloading Image #1 from https://vangogh.teespring.com/shirt_pic/5741263/6631729/95/2270/480x9999/front.png?v=2016-06-10-23-12\n",
            "[%] File Downloaded !\n",
            "\n",
            "\n",
            "\n",
            "[%] Done. Downloaded 1 images.\n",
            "===============================================\n",
            "\n",
            "Please show your support here\n",
            "https://www.buymeacoffee.com/gurugaurav\n",
            "\n",
            "===============================================\n",
            "\n",
            "[MoviePy] >>>> Building video 44.mp4\n",
            "[MoviePy] Writing video 44.mp4\n"
          ]
        },
        {
          "output_type": "stream",
          "name": "stderr",
          "text": [
            " 86%|████████▌ | 6/7 [00:03<00:00,  1.65it/s]\n"
          ]
        },
        {
          "output_type": "stream",
          "name": "stdout",
          "text": [
            "[MoviePy] Done.\n",
            "[MoviePy] >>>> Video ready: 44.mp4 \n",
            "\n",
            "[%] Downloading Images to /content/dataset/dignity.Race\n",
            "\n",
            "\n",
            "[!!]Indexing page: 1\n",
            "\n",
            "[%] Indexed 1 Images on Page 1.\n",
            "\n",
            "===============================================\n",
            "\n",
            "[%] Downloading Image #1 from https://i.pinimg.com/originals/a7/7a/64/a77a644f35d7114407bfea793ed01ac4.jpg\n",
            "[%] File Downloaded !\n",
            "\n",
            "\n",
            "\n",
            "[%] Done. Downloaded 1 images.\n",
            "===============================================\n",
            "\n",
            "Please show your support here\n",
            "https://www.buymeacoffee.com/gurugaurav\n",
            "\n",
            "===============================================\n",
            "\n",
            "[MoviePy] >>>> Building video 45.mp4\n",
            "[MoviePy] Writing video 45.mp4\n"
          ]
        },
        {
          "output_type": "stream",
          "name": "stderr",
          "text": [
            " 86%|████████▌ | 6/7 [00:02<00:00,  2.36it/s]"
          ]
        },
        {
          "output_type": "stream",
          "name": "stdout",
          "text": [
            "[MoviePy] Done.\n",
            "[MoviePy] >>>> Video ready: 45.mp4 \n",
            "\n"
          ]
        },
        {
          "output_type": "stream",
          "name": "stderr",
          "text": [
            "\n"
          ]
        },
        {
          "output_type": "stream",
          "name": "stdout",
          "text": [
            "[%] Downloading Images to /content/dataset/Now\n",
            "\n",
            "\n",
            "[!!]Indexing page: 1\n",
            "\n",
            "[%] Indexed 1 Images on Page 1.\n",
            "\n",
            "===============================================\n",
            "\n",
            "[%] Downloading Image #1 from https://i.ytimg.com/vi/PKXvvhYnQY0/maxresdefault.jpg\n",
            "[%] File Downloaded !\n",
            "\n",
            "\n",
            "\n",
            "[%] Done. Downloaded 1 images.\n",
            "===============================================\n",
            "\n",
            "Please show your support here\n",
            "https://www.buymeacoffee.com/gurugaurav\n",
            "\n",
            "===============================================\n",
            "\n",
            "[MoviePy] >>>> Building video 46.mp4\n",
            "[MoviePy] Writing video 46.mp4\n"
          ]
        },
        {
          "output_type": "stream",
          "name": "stderr",
          "text": [
            " 86%|████████▌ | 6/7 [00:02<00:00,  2.05it/s]\n"
          ]
        },
        {
          "output_type": "stream",
          "name": "stdout",
          "text": [
            "[MoviePy] Done.\n",
            "[MoviePy] >>>> Video ready: 46.mp4 \n",
            "\n",
            "[%] Downloading Images to /content/dataset/I'm\n",
            "\n",
            "\n",
            "[!!]Indexing page: 1\n",
            "\n",
            "[%] Indexed 1 Images on Page 1.\n",
            "\n",
            "===============================================\n",
            "\n",
            "[%] Downloading Image #1 from https://s-media-cache-ak0.pinimg.com/736x/8f/a1/93/8fa193ea9b5b260e266c2e43fc415ad1.jpg\n",
            "[%] File Downloaded !\n",
            "\n",
            "\n",
            "\n",
            "[%] Done. Downloaded 1 images.\n",
            "===============================================\n",
            "\n",
            "Please show your support here\n",
            "https://www.buymeacoffee.com/gurugaurav\n",
            "\n",
            "===============================================\n",
            "\n",
            "[MoviePy] >>>> Building video 47.mp4\n",
            "[MoviePy] Writing video 47.mp4\n"
          ]
        },
        {
          "output_type": "stream",
          "name": "stderr",
          "text": [
            " 86%|████████▌ | 6/7 [00:02<00:00,  2.64it/s]\n"
          ]
        },
        {
          "output_type": "stream",
          "name": "stdout",
          "text": [
            "[MoviePy] Done.\n",
            "[MoviePy] >>>> Video ready: 47.mp4 \n",
            "\n",
            "[%] Downloading Images to /content/dataset/slipping\n",
            "\n",
            "\n",
            "[!!]Indexing page: 1\n",
            "\n",
            "[%] Indexed 1 Images on Page 1.\n",
            "\n",
            "===============================================\n",
            "\n",
            "[%] Downloading Image #1 from http://i.ytimg.com/vi/uQDbDgnNM2g/maxresdefault.jpg\n",
            "[%] File Downloaded !\n",
            "\n",
            "\n",
            "\n",
            "[%] Done. Downloaded 1 images.\n",
            "===============================================\n",
            "\n",
            "Please show your support here\n",
            "https://www.buymeacoffee.com/gurugaurav\n",
            "\n",
            "===============================================\n",
            "\n",
            "[MoviePy] >>>> Building video 48.mp4\n",
            "[MoviePy] Writing video 48.mp4\n"
          ]
        },
        {
          "output_type": "stream",
          "name": "stderr",
          "text": [
            " 86%|████████▌ | 6/7 [00:02<00:00,  2.57it/s]\n"
          ]
        },
        {
          "output_type": "stream",
          "name": "stdout",
          "text": [
            "[MoviePy] Done.\n",
            "[MoviePy] >>>> Video ready: 48.mp4 \n",
            "\n",
            "[%] Downloading Images to /content/dataset/through\n",
            "\n",
            "\n",
            "[!!]Indexing page: 1\n",
            "\n",
            "[%] Indexed 1 Images on Page 1.\n",
            "\n",
            "===============================================\n",
            "\n",
            "[%] Downloading Image #1 from http://havingtime.com/wp-content/uploads/2014/06/Diffuse-Any-Argument.png\n",
            "[%] File Downloaded !\n",
            "\n",
            "\n",
            "\n",
            "[%] Done. Downloaded 1 images.\n",
            "===============================================\n",
            "\n",
            "Please show your support here\n",
            "https://www.buymeacoffee.com/gurugaurav\n",
            "\n",
            "===============================================\n",
            "\n",
            "[MoviePy] >>>> Building video 49.mp4\n",
            "[MoviePy] Writing video 49.mp4\n"
          ]
        },
        {
          "output_type": "stream",
          "name": "stderr",
          "text": [
            " 86%|████████▌ | 6/7 [00:02<00:00,  2.56it/s]"
          ]
        },
        {
          "output_type": "stream",
          "name": "stdout",
          "text": [
            "[MoviePy] Done.\n",
            "[MoviePy] >>>> Video ready: 49.mp4 \n",
            "\n"
          ]
        },
        {
          "output_type": "stream",
          "name": "stderr",
          "text": [
            "\n"
          ]
        },
        {
          "output_type": "stream",
          "name": "stdout",
          "text": [
            "[%] Downloading Images to /content/dataset/the\n",
            "\n",
            "\n",
            "[!!]Indexing page: 1\n",
            "\n",
            "[%] Indexed 1 Images on Page 1.\n",
            "\n",
            "===============================================\n",
            "\n",
            "[%] Downloading Image #1 from https://www.onlygfx.com/wp-content/uploads/2018/04/true-stamp-2-1024x1024.png\n",
            "[%] File Downloaded !\n",
            "\n",
            "\n",
            "\n",
            "[%] Done. Downloaded 1 images.\n",
            "===============================================\n",
            "\n",
            "Please show your support here\n",
            "https://www.buymeacoffee.com/gurugaurav\n",
            "\n",
            "===============================================\n",
            "\n",
            "[MoviePy] >>>> Building video 50.mp4\n",
            "[MoviePy] Writing video 50.mp4\n"
          ]
        },
        {
          "output_type": "stream",
          "name": "stderr",
          "text": [
            " 86%|████████▌ | 6/7 [00:02<00:00,  2.18it/s]\n"
          ]
        },
        {
          "output_type": "stream",
          "name": "stdout",
          "text": [
            "[MoviePy] Done.\n",
            "[MoviePy] >>>> Video ready: 50.mp4 \n",
            "\n",
            "[%] Downloading Images to /content/dataset/cracks\n",
            "\n",
            "\n",
            "[!!]Indexing page: 1\n",
            "\n",
            "[%] Indexed 1 Images on Page 1.\n",
            "\n",
            "===============================================\n",
            "\n",
            "[%] Downloading Image #1 from https://www.truelevelconcrete.ca/wp-content/uploads/2020/11/image-4-close-up-of-crack-along-north-side-800x600.jpg\n",
            "[%] File Downloaded !\n",
            "\n",
            "\n",
            "\n",
            "[%] Done. Downloaded 1 images.\n",
            "===============================================\n",
            "\n",
            "Please show your support here\n",
            "https://www.buymeacoffee.com/gurugaurav\n",
            "\n",
            "===============================================\n",
            "\n",
            "[MoviePy] >>>> Building video 51.mp4\n",
            "[MoviePy] Writing video 51.mp4\n"
          ]
        },
        {
          "output_type": "stream",
          "name": "stderr",
          "text": [
            " 86%|████████▌ | 6/7 [00:02<00:00,  2.57it/s]\n"
          ]
        },
        {
          "output_type": "stream",
          "name": "stdout",
          "text": [
            "[MoviePy] Done.\n",
            "[MoviePy] >>>> Video ready: 51.mp4 \n",
            "\n",
            "[%] Downloading Images to /content/dataset/of\n",
            "\n",
            "\n",
            "[!!]Indexing page: 1\n",
            "\n",
            "[%] Indexed 1 Images on Page 1.\n",
            "\n",
            "===============================================\n",
            "\n",
            "[%] Downloading Image #1 from https://www.onlygfx.com/wp-content/uploads/2018/04/true-stamp-2-1024x1024.png\n",
            "[%] File Downloaded !\n",
            "\n",
            "\n",
            "\n",
            "[%] Done. Downloaded 1 images.\n",
            "===============================================\n",
            "\n",
            "Please show your support here\n",
            "https://www.buymeacoffee.com/gurugaurav\n",
            "\n",
            "===============================================\n",
            "\n",
            "[MoviePy] >>>> Building video 52.mp4\n",
            "[MoviePy] Writing video 52.mp4\n"
          ]
        },
        {
          "output_type": "stream",
          "name": "stderr",
          "text": [
            " 86%|████████▌ | 6/7 [00:02<00:00,  2.10it/s]\n"
          ]
        },
        {
          "output_type": "stream",
          "name": "stdout",
          "text": [
            "[MoviePy] Done.\n",
            "[MoviePy] >>>> Video ready: 52.mp4 \n",
            "\n",
            "[%] Downloading Images to /content/dataset/your\n",
            "\n",
            "\n",
            "[!!]Indexing page: 1\n",
            "\n",
            "[%] Indexed 1 Images on Page 1.\n",
            "\n",
            "===============================================\n",
            "\n",
            "[%] Downloading Image #1 from https://res.cloudinary.com/teepublic/image/private/s--GnkHwG_9--/t_Preview/b_rgb:191919,c_limit,f_jpg,h_630,q_90,w_630/v1560080939/production/designs/5026413_0.jpg\n",
            "[%] File Downloaded !\n",
            "\n",
            "\n",
            "\n",
            "[%] Done. Downloaded 1 images.\n",
            "===============================================\n",
            "\n",
            "Please show your support here\n",
            "https://www.buymeacoffee.com/gurugaurav\n",
            "\n",
            "===============================================\n",
            "\n",
            "[MoviePy] >>>> Building video 53.mp4\n",
            "[MoviePy] Writing video 53.mp4\n"
          ]
        },
        {
          "output_type": "stream",
          "name": "stderr",
          "text": [
            " 86%|████████▌ | 6/7 [00:02<00:00,  2.99it/s]"
          ]
        },
        {
          "output_type": "stream",
          "name": "stdout",
          "text": [
            "[MoviePy] Done.\n",
            "[MoviePy] >>>> Video ready: 53.mp4 \n",
            "\n"
          ]
        },
        {
          "output_type": "stream",
          "name": "stderr",
          "text": [
            "\n"
          ]
        },
        {
          "output_type": "stream",
          "name": "stdout",
          "text": [
            "[%] Downloading Images to /content/dataset/cold\n",
            "\n",
            "\n",
            "[!!]Indexing page: 1\n",
            "\n",
            "[%] Indexed 1 Images on Page 1.\n",
            "\n",
            "===============================================\n",
            "\n",
            "[%] Downloading Image #1 from https://s.hdnux.com/photos/65/06/44/13920522/3/1200x0.jpg\n",
            "[%] File Downloaded !\n",
            "\n",
            "\n",
            "\n",
            "[%] Done. Downloaded 1 images.\n",
            "===============================================\n",
            "\n",
            "Please show your support here\n",
            "https://www.buymeacoffee.com/gurugaurav\n",
            "\n",
            "===============================================\n",
            "\n",
            "[MoviePy] >>>> Building video 54.mp4\n",
            "[MoviePy] Writing video 54.mp4\n"
          ]
        },
        {
          "output_type": "stream",
          "name": "stderr",
          "text": [
            " 86%|████████▌ | 6/7 [00:02<00:00,  2.97it/s]\n"
          ]
        },
        {
          "output_type": "stream",
          "name": "stdout",
          "text": [
            "[MoviePy] Done.\n",
            "[MoviePy] >>>> Video ready: 54.mp4 \n",
            "\n",
            "[%] Downloading Images to /content/dataset/and\n",
            "\n",
            "\n",
            "[!!]Indexing page: 1\n",
            "\n",
            "[%] Indexed 1 Images on Page 1.\n",
            "\n",
            "===============================================\n",
            "\n",
            "[%] Downloading Image #1 from https://www.onlygfx.com/wp-content/uploads/2018/04/true-stamp-1.png\n",
            "[%] File Downloaded !\n",
            "\n",
            "\n",
            "\n",
            "[%] Done. Downloaded 1 images.\n",
            "===============================================\n",
            "\n",
            "Please show your support here\n",
            "https://www.buymeacoffee.com/gurugaurav\n",
            "\n",
            "===============================================\n",
            "\n",
            "[MoviePy] >>>> Building video 55.mp4\n",
            "[MoviePy] Writing video 55.mp4\n"
          ]
        },
        {
          "output_type": "stream",
          "name": "stderr",
          "text": [
            " 86%|████████▌ | 6/7 [00:03<00:00,  1.83it/s]"
          ]
        },
        {
          "output_type": "stream",
          "name": "stdout",
          "text": [
            "[MoviePy] Done.\n",
            "[MoviePy] >>>> Video ready: 55.mp4 \n",
            "\n"
          ]
        },
        {
          "output_type": "stream",
          "name": "stderr",
          "text": [
            "\n"
          ]
        },
        {
          "output_type": "stream",
          "name": "stdout",
          "text": [
            "[%] Downloading Images to /content/dataset/race\n",
            "\n",
            "\n",
            "[!!]Indexing page: 1\n",
            "\n",
            "[%] Indexed 1 Images on Page 1.\n",
            "\n",
            "===============================================\n",
            "\n",
            "[%] Downloading Image #1 from http://www.stgeorgeutah.com/wp-content/uploads/2016/03/IMG_2897.jpg\n",
            "[%] File Downloaded !\n",
            "\n",
            "\n",
            "\n",
            "[%] Done. Downloaded 1 images.\n",
            "===============================================\n",
            "\n",
            "Please show your support here\n",
            "https://www.buymeacoffee.com/gurugaurav\n",
            "\n",
            "===============================================\n",
            "\n",
            "[MoviePy] >>>> Building video 56.mp4\n",
            "[MoviePy] Writing video 56.mp4\n"
          ]
        },
        {
          "output_type": "stream",
          "name": "stderr",
          "text": [
            " 86%|████████▌ | 6/7 [00:02<00:00,  2.95it/s]\n"
          ]
        },
        {
          "output_type": "stream",
          "name": "stdout",
          "text": [
            "[MoviePy] Done.\n",
            "[MoviePy] >>>> Video ready: 56.mp4 \n",
            "\n",
            "[%] Downloading Images to /content/dataset/So\n",
            "\n",
            "\n",
            "[!!]Indexing page: 1\n",
            "\n",
            "[%] Indexed 2 Images on Page 1.\n",
            "\n",
            "===============================================\n",
            "\n",
            "[%] Downloading Image #1 from https://avalon.edu/wp-content/uploads/2017/05/so-true.gif\n",
            "[%] File Downloaded !\n",
            "\n",
            "\n",
            "\n",
            "[%] Done. Downloaded 1 images.\n",
            "===============================================\n",
            "\n",
            "Please show your support here\n",
            "https://www.buymeacoffee.com/gurugaurav\n",
            "\n",
            "===============================================\n",
            "\n",
            "[MoviePy] >>>> Building video 57.mp4\n",
            "[MoviePy] Writing video 57.mp4\n"
          ]
        },
        {
          "output_type": "stream",
          "name": "stderr",
          "text": [
            " 86%|████████▌ | 6/7 [00:02<00:00,  2.81it/s]"
          ]
        },
        {
          "output_type": "stream",
          "name": "stdout",
          "text": [
            "[MoviePy] Done.\n",
            "[MoviePy] >>>> Video ready: 57.mp4 \n",
            "\n"
          ]
        },
        {
          "output_type": "stream",
          "name": "stderr",
          "text": [
            "\n"
          ]
        },
        {
          "output_type": "stream",
          "name": "stdout",
          "text": [
            "[%] Downloading Images to /content/dataset/please\n",
            "\n",
            "\n",
            "[!!]Indexing page: 1\n",
            "\n",
            "[%] Indexed 1 Images on Page 1.\n",
            "\n",
            "===============================================\n",
            "\n",
            "[%] Downloading Image #1 from https://i.ytimg.com/vi/ezQg-CYD-R0/hqdefault.jpg\n",
            "[%] File Downloaded !\n",
            "\n",
            "\n",
            "\n",
            "[%] Done. Downloaded 1 images.\n",
            "===============================================\n",
            "\n",
            "Please show your support here\n",
            "https://www.buymeacoffee.com/gurugaurav\n",
            "\n",
            "===============================================\n",
            "\n",
            "[MoviePy] >>>> Building video 58.mp4\n",
            "[MoviePy] Writing video 58.mp4\n"
          ]
        },
        {
          "output_type": "stream",
          "name": "stderr",
          "text": [
            " 86%|████████▌ | 6/7 [00:01<00:00,  3.33it/s]"
          ]
        },
        {
          "output_type": "stream",
          "name": "stdout",
          "text": [
            "[MoviePy] Done.\n",
            "[MoviePy] >>>> Video ready: 58.mp4 \n",
            "\n"
          ]
        },
        {
          "output_type": "stream",
          "name": "stderr",
          "text": [
            "\n"
          ]
        },
        {
          "output_type": "stream",
          "name": "stdout",
          "text": [
            "[%] Downloading Images to /content/dataset/could\n",
            "\n",
            "\n",
            "[!!]Indexing page: 1\n",
            "\n",
            "[%] Indexed 1 Images on Page 1.\n",
            "\n",
            "===============================================\n",
            "\n",
            "[%] Downloading Image #1 from https://images.squarespace-cdn.com/content/v1/56eddde762cd9413e151ac92/1642492555941-FBJXDFPPFA42L54P51YN/unsplash-image-uKvPDQop-JA.jpg\n",
            "[Error]Invalid image, not saving https://images.squarespace-cdn.com/content/v1/56eddde762cd9413e151ac92/1642492555941-FBJXDFPPFA42L54P51YN/unsplash-image-uKvPDQop-JA.jpg\n",
            "\n",
            "[!] Issue getting: https://images.squarespace-cdn.com/content/v1/56eddde762cd9413e151ac92/1642492555941-FBJXDFPPFA42L54P51YN/unsplash-image-uKvPDQop-JA.jpg\n",
            "[!] Error:: Invalid image, not saving https://images.squarespace-cdn.com/content/v1/56eddde762cd9413e151ac92/1642492555941-FBJXDFPPFA42L54P51YN/unsplash-image-uKvPDQop-JA.jpg\n",
            "\n",
            "\n",
            "\n",
            "[!!]Indexing page: 2\n",
            "\n",
            "[%] Indexed 35 Images on Page 2.\n",
            "\n",
            "===============================================\n",
            "\n",
            "[%] Downloading Image #1 from https://images.squarespace-cdn.com/content/v1/56eddde762cd9413e151ac92/1642492555941-FBJXDFPPFA42L54P51YN/unsplash-image-uKvPDQop-JA.jpg\n",
            "[Error]Invalid image, not saving https://images.squarespace-cdn.com/content/v1/56eddde762cd9413e151ac92/1642492555941-FBJXDFPPFA42L54P51YN/unsplash-image-uKvPDQop-JA.jpg\n",
            "\n",
            "[!] Issue getting: https://images.squarespace-cdn.com/content/v1/56eddde762cd9413e151ac92/1642492555941-FBJXDFPPFA42L54P51YN/unsplash-image-uKvPDQop-JA.jpg\n",
            "[!] Error:: Invalid image, not saving https://images.squarespace-cdn.com/content/v1/56eddde762cd9413e151ac92/1642492555941-FBJXDFPPFA42L54P51YN/unsplash-image-uKvPDQop-JA.jpg\n",
            "\n",
            "[%] Downloading Image #1 from https://www.shkmgmcnuh.org/wp-content/uploads/2022/01/Marvel-dream-could-come-true-Andrew-Garfield-wants-to-fight-1084x1536.jpg\n",
            "[%] File Downloaded !\n",
            "\n",
            "\n",
            "\n",
            "[%] Done. Downloaded 1 images.\n",
            "===============================================\n",
            "\n",
            "Please show your support here\n",
            "https://www.buymeacoffee.com/gurugaurav\n",
            "\n",
            "===============================================\n",
            "\n",
            "[MoviePy] >>>> Building video 59.mp4\n",
            "[MoviePy] Writing video 59.mp4\n"
          ]
        },
        {
          "output_type": "stream",
          "name": "stderr",
          "text": [
            " 86%|████████▌ | 6/7 [00:02<00:00,  2.58it/s]\n"
          ]
        },
        {
          "output_type": "stream",
          "name": "stdout",
          "text": [
            "[MoviePy] Done.\n",
            "[MoviePy] >>>> Video ready: 59.mp4 \n",
            "\n",
            "[%] Downloading Images to /content/dataset/you\n",
            "\n",
            "\n",
            "[!!]Indexing page: 1\n",
            "\n",
            "[%] Indexed 1 Images on Page 1.\n",
            "\n",
            "===============================================\n",
            "\n",
            "[%] Downloading Image #1 from http://www.lovethispic.com/uploaded_images/166646-Be-True-To-You.jpg\n",
            "[%] File Downloaded !\n",
            "\n",
            "\n",
            "\n",
            "[%] Done. Downloaded 1 images.\n",
            "===============================================\n",
            "\n",
            "Please show your support here\n",
            "https://www.buymeacoffee.com/gurugaurav\n",
            "\n",
            "===============================================\n",
            "\n",
            "[MoviePy] >>>> Building video 60.mp4\n",
            "[MoviePy] Writing video 60.mp4\n"
          ]
        },
        {
          "output_type": "stream",
          "name": "stderr",
          "text": [
            " 86%|████████▌ | 6/7 [00:02<00:00,  2.78it/s]"
          ]
        },
        {
          "output_type": "stream",
          "name": "stdout",
          "text": [
            "[MoviePy] Done.\n",
            "[MoviePy] >>>> Video ready: 60.mp4 \n",
            "\n"
          ]
        },
        {
          "output_type": "stream",
          "name": "stderr",
          "text": [
            "\n"
          ]
        },
        {
          "output_type": "stream",
          "name": "stdout",
          "text": [
            "[%] Downloading Images to /content/dataset/find\n",
            "\n",
            "\n",
            "[!!]Indexing page: 1\n",
            "\n",
            "[%] Indexed 1 Images on Page 1.\n",
            "\n",
            "===============================================\n",
            "\n",
            "[%] Downloading Image #1 from https://i.pinimg.com/736x/b3/4e/0a/b34e0afd4bec47a7851a39b462411955--god-is-love-love-this.jpg\n",
            "[%] File Downloaded !\n",
            "\n",
            "\n",
            "\n",
            "[%] Done. Downloaded 1 images.\n",
            "===============================================\n",
            "\n",
            "Please show your support here\n",
            "https://www.buymeacoffee.com/gurugaurav\n",
            "\n",
            "===============================================\n",
            "\n",
            "[MoviePy] >>>> Building video 61.mp4\n",
            "[MoviePy] Writing video 61.mp4\n"
          ]
        },
        {
          "output_type": "stream",
          "name": "stderr",
          "text": [
            " 86%|████████▌ | 6/7 [00:02<00:00,  2.65it/s]"
          ]
        },
        {
          "output_type": "stream",
          "name": "stdout",
          "text": [
            "[MoviePy] Done.\n",
            "[MoviePy] >>>> Video ready: 61.mp4 \n",
            "\n"
          ]
        },
        {
          "output_type": "stream",
          "name": "stderr",
          "text": [
            "\n"
          ]
        },
        {
          "output_type": "stream",
          "name": "stdout",
          "text": [
            "[%] Downloading Images to /content/dataset/a\n",
            "\n",
            "\n",
            "[!!]Indexing page: 1\n",
            "\n",
            "[%] Indexed 1 Images on Page 1.\n",
            "\n",
            "===============================================\n",
            "\n",
            "[%] Downloading Image #1 from https://i.pinimg.com/736x/8b/e9/0f/8be90f11f372343c9216764109348798--preschool-learning-preschool-ideas.jpg\n",
            "[%] File Downloaded !\n",
            "\n",
            "\n",
            "\n",
            "[%] Done. Downloaded 1 images.\n",
            "===============================================\n",
            "\n",
            "Please show your support here\n",
            "https://www.buymeacoffee.com/gurugaurav\n",
            "\n",
            "===============================================\n",
            "\n",
            "[MoviePy] >>>> Building video 62.mp4\n",
            "[MoviePy] Writing video 62.mp4\n"
          ]
        },
        {
          "output_type": "stream",
          "name": "stderr",
          "text": [
            " 86%|████████▌ | 6/7 [00:02<00:00,  2.97it/s]\n"
          ]
        },
        {
          "output_type": "stream",
          "name": "stdout",
          "text": [
            "[MoviePy] Done.\n",
            "[MoviePy] >>>> Video ready: 62.mp4 \n",
            "\n",
            "[%] Downloading Images to /content/dataset/way\n",
            "\n",
            "\n",
            "[!!]Indexing page: 1\n",
            "\n",
            "[%] Indexed 1 Images on Page 1.\n",
            "\n",
            "===============================================\n",
            "\n",
            "[%] Downloading Image #1 from https://mir-s3-cdn-cf.behance.net/project_modules/1400/6a086420527141.56361bea57d8f.jpg\n",
            "[Error]Invalid image, not saving https://mir-s3-cdn-cf.behance.net/project_modules/1400/6a086420527141.56361bea57d8f.jpg\n",
            "\n",
            "[!] Issue getting: https://mir-s3-cdn-cf.behance.net/project_modules/1400/6a086420527141.56361bea57d8f.jpg\n",
            "[!] Error:: Invalid image, not saving https://mir-s3-cdn-cf.behance.net/project_modules/1400/6a086420527141.56361bea57d8f.jpg\n",
            "\n",
            "\n",
            "\n",
            "[!!]Indexing page: 2\n",
            "\n",
            "[%] Indexed 35 Images on Page 2.\n",
            "\n",
            "===============================================\n",
            "\n",
            "[%] Downloading Image #1 from http://img1.wsimg.com/isteam/ip/0b97daa3-d4a8-4d89-9f4e-eb0c716b5400/Ttrue way new logo.png\n",
            "[!] Issue getting: http://img1.wsimg.com/isteam/ip/0b97daa3-d4a8-4d89-9f4e-eb0c716b5400/Ttrue way new logo.png\n",
            "[!] Error:: URL can't contain control characters. '/isteam/ip/0b97daa3-d4a8-4d89-9f4e-eb0c716b5400/Ttrue way new logo.png' (found at least ' ')\n",
            "[%] Downloading Image #1 from https://yt3.ggpht.com/a/AATXAJw1Rv5BzrLhGf0J40oHxWb0EizQMlIJl8q-Wg=s900-c-k-c0xffffffff-no-rj-mo\n",
            "[%] File Downloaded !\n",
            "\n",
            "\n",
            "\n",
            "[%] Done. Downloaded 1 images.\n",
            "===============================================\n",
            "\n",
            "Please show your support here\n",
            "https://www.buymeacoffee.com/gurugaurav\n",
            "\n",
            "===============================================\n",
            "\n",
            "[MoviePy] >>>> Building video 63.mp4\n",
            "[MoviePy] Writing video 63.mp4\n"
          ]
        },
        {
          "output_type": "stream",
          "name": "stderr",
          "text": [
            " 86%|████████▌ | 6/7 [00:02<00:00,  2.49it/s]"
          ]
        },
        {
          "output_type": "stream",
          "name": "stdout",
          "text": [
            "[MoviePy] Done.\n"
          ]
        },
        {
          "output_type": "stream",
          "name": "stderr",
          "text": [
            "\n"
          ]
        },
        {
          "output_type": "stream",
          "name": "stdout",
          "text": [
            "[MoviePy] >>>> Video ready: 63.mp4 \n",
            "\n",
            "[%] Downloading Images to /content/dataset/to\n",
            "\n",
            "\n",
            "[!!]Indexing page: 1\n",
            "\n",
            "[%] Indexed 1 Images on Page 1.\n",
            "\n",
            "===============================================\n",
            "\n",
            "[%] Downloading Image #1 from https://presentationarchive.com/truemovies2016/one-f.jpg\n",
            "[%] File Downloaded !\n",
            "\n",
            "\n",
            "\n",
            "[%] Done. Downloaded 1 images.\n",
            "===============================================\n",
            "\n",
            "Please show your support here\n",
            "https://www.buymeacoffee.com/gurugaurav\n",
            "\n",
            "===============================================\n",
            "\n",
            "[MoviePy] >>>> Building video 64.mp4\n",
            "[MoviePy] Writing video 64.mp4\n"
          ]
        },
        {
          "output_type": "stream",
          "name": "stderr",
          "text": [
            " 86%|████████▌ | 6/7 [00:01<00:00,  3.09it/s]"
          ]
        },
        {
          "output_type": "stream",
          "name": "stdout",
          "text": [
            "[MoviePy] Done.\n",
            "[MoviePy] >>>> Video ready: 64.mp4 \n",
            "\n"
          ]
        },
        {
          "output_type": "stream",
          "name": "stderr",
          "text": [
            "\n"
          ]
        },
        {
          "output_type": "stream",
          "name": "stdout",
          "text": [
            "[%] Downloading Images to /content/dataset/let\n",
            "\n",
            "\n",
            "[!!]Indexing page: 1\n",
            "\n",
            "[%] Indexed 1 Images on Page 1.\n",
            "\n",
            "===============================================\n",
            "\n",
            "[%] Downloading Image #1 from https://shmrecords.com/WebRoot/Daily/Shops/eshop859132/58DA/8B34/4440/26A8/E7A2/0A0C/05BD/985C/CCI_0023_ml.jpg\n",
            "[%] File Downloaded !\n",
            "\n",
            "\n",
            "\n",
            "[%] Done. Downloaded 1 images.\n",
            "===============================================\n",
            "\n",
            "Please show your support here\n",
            "https://www.buymeacoffee.com/gurugaurav\n",
            "\n",
            "===============================================\n",
            "\n",
            "[MoviePy] >>>> Building video 65.mp4\n",
            "[MoviePy] Writing video 65.mp4\n"
          ]
        },
        {
          "output_type": "stream",
          "name": "stderr",
          "text": [
            " 86%|████████▌ | 6/7 [00:02<00:00,  2.93it/s]\n"
          ]
        },
        {
          "output_type": "stream",
          "name": "stdout",
          "text": [
            "[MoviePy] Done.\n",
            "[MoviePy] >>>> Video ready: 65.mp4 \n",
            "\n",
            "[%] Downloading Images to /content/dataset/me\n",
            "\n",
            "\n",
            "[!!]Indexing page: 1\n",
            "\n",
            "[%] Indexed 1 Images on Page 1.\n",
            "\n",
            "===============================================\n",
            "\n",
            "[%] Downloading Image #1 from https://mir-s3-cdn-cf.behance.net/project_modules/max_1200/db4b1166282349.5b107ff16e8ba.jpg\n",
            "[Error]Invalid image, not saving https://mir-s3-cdn-cf.behance.net/project_modules/max_1200/db4b1166282349.5b107ff16e8ba.jpg\n",
            "\n",
            "[!] Issue getting: https://mir-s3-cdn-cf.behance.net/project_modules/max_1200/db4b1166282349.5b107ff16e8ba.jpg\n",
            "[!] Error:: Invalid image, not saving https://mir-s3-cdn-cf.behance.net/project_modules/max_1200/db4b1166282349.5b107ff16e8ba.jpg\n",
            "\n",
            "\n",
            "\n",
            "[!!]Indexing page: 2\n",
            "\n",
            "[%] Indexed 37 Images on Page 2.\n",
            "\n",
            "===============================================\n",
            "\n",
            "[%] Downloading Image #1 from https://mir-s3-cdn-cf.behance.net/project_modules/max_1200/db4b1166282349.5b107ff16e8ba.jpg\n",
            "[Error]Invalid image, not saving https://mir-s3-cdn-cf.behance.net/project_modules/max_1200/db4b1166282349.5b107ff16e8ba.jpg\n",
            "\n",
            "[!] Issue getting: https://mir-s3-cdn-cf.behance.net/project_modules/max_1200/db4b1166282349.5b107ff16e8ba.jpg\n",
            "[!] Error:: Invalid image, not saving https://mir-s3-cdn-cf.behance.net/project_modules/max_1200/db4b1166282349.5b107ff16e8ba.jpg\n",
            "\n",
            "[%] Downloading Image #1 from https://vangogh.teespring.com/shirt_pic/5741263/6631729/95/2270/480x9999/front.png?v=2016-06-10-23-12\n",
            "[%] File Downloaded !\n",
            "\n",
            "\n",
            "\n",
            "[%] Done. Downloaded 1 images.\n",
            "===============================================\n",
            "\n",
            "Please show your support here\n",
            "https://www.buymeacoffee.com/gurugaurav\n",
            "\n",
            "===============================================\n",
            "\n",
            "[MoviePy] >>>> Building video 66.mp4\n",
            "[MoviePy] Writing video 66.mp4\n"
          ]
        },
        {
          "output_type": "stream",
          "name": "stderr",
          "text": [
            " 86%|████████▌ | 6/7 [00:02<00:00,  2.43it/s]"
          ]
        },
        {
          "output_type": "stream",
          "name": "stdout",
          "text": [
            "[MoviePy] Done.\n",
            "[MoviePy] >>>> Video ready: 66.mp4 \n",
            "\n"
          ]
        },
        {
          "output_type": "stream",
          "name": "stderr",
          "text": [
            "\n"
          ]
        },
        {
          "output_type": "stream",
          "name": "stdout",
          "text": [
            "[%] Downloading Images to /content/dataset/down\n",
            "\n",
            "\n",
            "[!!]Indexing page: 1\n",
            "\n",
            "[%] Indexed 1 Images on Page 1.\n",
            "\n",
            "===============================================\n",
            "\n",
            "[%] Downloading Image #1 from https://www.nataliacrawford.com/wp-content/uploads/2022/01/haglofs-bield-down-hoody-true-black-clothing-haglofs-jackets_2.jpg\n",
            "[%] File Downloaded !\n",
            "\n",
            "\n",
            "\n",
            "[%] Done. Downloaded 1 images.\n",
            "===============================================\n",
            "\n",
            "Please show your support here\n",
            "https://www.buymeacoffee.com/gurugaurav\n",
            "\n",
            "===============================================\n",
            "\n",
            "[MoviePy] >>>> Building video 67.mp4\n",
            "[MoviePy] Writing video 67.mp4\n"
          ]
        },
        {
          "output_type": "stream",
          "name": "stderr",
          "text": [
            " 86%|████████▌ | 6/7 [00:02<00:00,  2.94it/s]"
          ]
        },
        {
          "output_type": "stream",
          "name": "stdout",
          "text": [
            "[MoviePy] Done.\n",
            "[MoviePy] >>>> Video ready: 67.mp4 \n",
            "\n"
          ]
        },
        {
          "output_type": "stream",
          "name": "stderr",
          "text": [
            "\n"
          ]
        },
        {
          "output_type": "stream",
          "name": "stdout",
          "text": [
            "[%] Downloading Images to /content/dataset/slowly.\n",
            "\n",
            "\n",
            "[!!]Indexing page: 1\n",
            "\n",
            "[%] Indexed 1 Images on Page 1.\n",
            "\n",
            "===============================================\n",
            "\n",
            "[%] Downloading Image #1 from http://thumbs.dreamstime.com/z/slowly-surely-illustration-snail-crawling-heading-towards-success-conceptual-illustration-positive-thinking-45460749.jpg\n",
            "[%] File Downloaded !\n",
            "\n",
            "\n",
            "\n",
            "[%] Done. Downloaded 1 images.\n",
            "===============================================\n",
            "\n",
            "Please show your support here\n",
            "https://www.buymeacoffee.com/gurugaurav\n",
            "\n",
            "===============================================\n",
            "\n",
            "[MoviePy] >>>> Building video 68.mp4\n",
            "[MoviePy] Writing video 68.mp4\n"
          ]
        },
        {
          "output_type": "stream",
          "name": "stderr",
          "text": [
            " 86%|████████▌ | 6/7 [00:02<00:00,  2.90it/s]"
          ]
        },
        {
          "output_type": "stream",
          "name": "stdout",
          "text": [
            "[MoviePy] Done.\n",
            "[MoviePy] >>>> Video ready: 68.mp4 \n",
            "\n"
          ]
        },
        {
          "output_type": "stream",
          "name": "stderr",
          "text": [
            "\n"
          ]
        },
        {
          "output_type": "stream",
          "name": "stdout",
          "text": [
            "[MoviePy] >>>> Building video output.mp4\n",
            "[MoviePy] Writing video output.mp4\n"
          ]
        },
        {
          "output_type": "stream",
          "name": "stderr",
          "text": [
            "100%|██████████| 994/994 [00:44<00:00, 22.57it/s]\n"
          ]
        },
        {
          "output_type": "stream",
          "name": "stdout",
          "text": [
            "[MoviePy] Done.\n",
            "[MoviePy] >>>> Video ready: output.mp4 \n",
            "\n",
            "[MoviePy] >>>> Building video Final.mp4\n",
            "[MoviePy] Writing audio in FinalTEMP_MPY_wvf_snd.mp3\n"
          ]
        },
        {
          "output_type": "stream",
          "name": "stderr",
          "text": [
            "100%|██████████| 763/763 [00:01<00:00, 709.01it/s]"
          ]
        },
        {
          "output_type": "stream",
          "name": "stdout",
          "text": [
            "[MoviePy] Done.\n",
            "[MoviePy] Writing video Final.mp4\n"
          ]
        },
        {
          "output_type": "stream",
          "name": "stderr",
          "text": [
            "\n",
            "100%|██████████| 995/995 [00:53<00:00, 18.72it/s]\n"
          ]
        },
        {
          "output_type": "stream",
          "name": "stdout",
          "text": [
            "[MoviePy] Done.\n",
            "[MoviePy] >>>> Video ready: Final.mp4 \n",
            "\n"
          ]
        }
      ]
    }
  ]
}
